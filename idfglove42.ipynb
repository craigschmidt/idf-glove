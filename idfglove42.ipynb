{
 "cells": [
  {
   "cell_type": "code",
   "execution_count": 71,
   "id": "fa9ab176",
   "metadata": {},
   "outputs": [],
   "source": [
    "# this is copy of idfglove.ipynb\n",
    "# do it again, but build a model out of the uncased \n",
    "# file glove.42B.300d.txt\n",
    "# using the Glove vocab\n",
    "\n",
    "# standard library\n",
    "import time\n",
    "import json\n",
    "import re\n",
    "import numpy as np\n",
    "import urllib\n",
    "\n",
    "import sentence_transformers\n",
    "from sentence_transformers.models.tokenizer import WhitespaceTokenizer\n",
    "from sentence_transformers.models import WordEmbeddings\n",
    "\n",
    "from scipy.linalg import norm\n",
    "from math import log\n",
    "\n",
    "import matplotlib.pyplot as plt"
   ]
  },
  {
   "cell_type": "markdown",
   "id": "cc9ed578",
   "metadata": {},
   "source": [
    "# Read in data"
   ]
  },
  {
   "cell_type": "code",
   "execution_count": 2,
   "id": "c328bf55",
   "metadata": {},
   "outputs": [],
   "source": [
    "# dirname = \"/Users/cschmidt/delomore/delomore-parse-output/output/\""
   ]
  },
  {
   "cell_type": "code",
   "execution_count": 3,
   "id": "30c4e6b6",
   "metadata": {},
   "outputs": [],
   "source": [
    "# alljson = { \"collections\" : {},\n",
    "#             \"products\" : {},\n",
    "#             \"homepage\" : [],\n",
    "#             \"about\" : [],\n",
    "#             \"pages\" : [],\n",
    "#             \"blogs\" : [],\n",
    "#           }"
   ]
  },
  {
   "cell_type": "code",
   "execution_count": 4,
   "id": "d4c9ae05",
   "metadata": {},
   "outputs": [],
   "source": [
    "# queryfile = \"/Users/cschmidt/otherrepos/delomore-dataset/query-domains.tsv\"\n",
    "# querydomain = open(queryfile, \"rt\").readlines()\n",
    "# querydomain = [l.rstrip().split(\"\\t\") for l in querydomain]\n",
    "\n",
    "# # get the set of display domains\n",
    "# gooddomains = set()\n",
    "\n",
    "# for (query, displaydomain, domain) in querydomain:\n",
    "#     gooddomains.add(displaydomain)\n",
    "    \n",
    "# print(len(gooddomains))"
   ]
  },
  {
   "cell_type": "markdown",
   "id": "b89451b0",
   "metadata": {},
   "source": [
    "# Get the vocab from the Glove model directly"
   ]
  },
  {
   "cell_type": "code",
   "execution_count": 5,
   "id": "bc684251",
   "metadata": {},
   "outputs": [
    {
     "name": "stdout",
     "output_type": "stream",
     "text": [
      "1917494\n",
      "1917494\n",
      "time: 32.60562610626221\n"
     ]
    }
   ],
   "source": [
    "# this is the model that doesn't consider case of words\n",
    "# get everything up to the first space\n",
    "def getinitialword(s):\n",
    "    return s[:s.find(\" \")]\n",
    "\n",
    "glovefile = \"/Users/cschmidt/otherrepos/idf-glove/glove/glove.42B.300d.txt\"\n",
    "\n",
    "start_time = time.time()\n",
    "vocab = [getinitialword(l) for l in open(glovefile, 'rt').readlines()]\n",
    "\n",
    "vocabSet = set(vocab)\n",
    "print(len(vocab))\n",
    "\n",
    "# no dupes this time\n",
    "print(len(vocabSet))\n",
    "\n",
    "print(\"time:\", time.time() - start_time)"
   ]
  },
  {
   "cell_type": "code",
   "execution_count": 6,
   "id": "6f9829d3",
   "metadata": {},
   "outputs": [],
   "source": [
    "# filter out some of the words with a . in them,\n",
    "# including a bunch of number related cruft \n",
    "\n",
    "# lets include things like 2,890.00\n",
    "isnumber = re.compile(\"^[0-9.,:-]+$\")\n",
    "justdigits = re.compile(\"^[0-9]+$\")\n",
    "\n",
    "def isNumber(s):\n",
    "    return isnumber.search(s) != None\n",
    "\n",
    "def isInteger(s):\n",
    "    return justdigits.search(s) != None"
   ]
  },
  {
   "cell_type": "code",
   "execution_count": 7,
   "id": "7ae07860",
   "metadata": {},
   "outputs": [
    {
     "name": "stdout",
     "output_type": "stream",
     "text": [
      "bad: 4962\n",
      "integers: 65814\n",
      "numbers: 255305\n",
      "other: 74555\n"
     ]
    }
   ],
   "source": [
    "# how many cases have a period just at the end\n",
    "# and the word without it is in the vocab\n",
    "def isbad(s):\n",
    "    firstdot = s.find(\".\")\n",
    "    # no dot\n",
    "    if firstdot == -1:\n",
    "        return False\n",
    "    # first dot isn't last character\n",
    "    if firstdot != len(s)-1:\n",
    "        return False\n",
    "    # is bad if the word without it is in vocab\n",
    "    return s[:firstdot] in vocab\n",
    "\n",
    "badwords = set()\n",
    "integers = set()\n",
    "numbers = set()\n",
    "otherdot = set()\n",
    "for v in vocab:\n",
    "        \n",
    "        if isNumber(v):\n",
    "            \n",
    "            # lets keep the integers\n",
    "            if isInteger(v):\n",
    "                integers.add(v)\n",
    "            else:\n",
    "                # but lose the crufty numbers\n",
    "                numbers.add(v)\n",
    "        else:\n",
    "            \n",
    "            if isbad(v):\n",
    "                badwords.add(v)\n",
    "            else:\n",
    "                if \".\" in v:\n",
    "                    otherdot.add(v)\n",
    "print(\"bad:\",len(badwords))\n",
    "print(\"integers:\",len(integers))\n",
    "print(\"numbers:\",len(numbers))\n",
    "print(\"other:\",len(otherdot))"
   ]
  },
  {
   "cell_type": "code",
   "execution_count": 9,
   "id": "46b81ba7",
   "metadata": {
    "scrolled": true
   },
   "outputs": [
    {
     "data": {
      "text/plain": [
       "['13642',\n",
       " '14458',\n",
       " '53549',\n",
       " '54971',\n",
       " '26380',\n",
       " '63032',\n",
       " '6670',\n",
       " '32571',\n",
       " '10338',\n",
       " '1015213']"
      ]
     },
     "execution_count": 9,
     "metadata": {},
     "output_type": "execute_result"
    }
   ],
   "source": [
    "list(integers)[:10]"
   ]
  },
  {
   "cell_type": "code",
   "execution_count": 10,
   "id": "320dba24",
   "metadata": {
    "scrolled": true
   },
   "outputs": [
    {
     "data": {
      "text/plain": [
       "['23:16:54',\n",
       " '00:15:33',\n",
       " ':18.8',\n",
       " '06:28:31',\n",
       " '17:54:58',\n",
       " '19,052',\n",
       " '106-07',\n",
       " '46-47',\n",
       " '7.36',\n",
       " '19:45:17']"
      ]
     },
     "execution_count": 10,
     "metadata": {},
     "output_type": "execute_result"
    }
   ],
   "source": [
    "list(numbers)[:10]"
   ]
  },
  {
   "cell_type": "code",
   "execution_count": 11,
   "id": "c9e9d254",
   "metadata": {
    "scrolled": true
   },
   "outputs": [
    {
     "data": {
      "text/plain": [
       "['infoplist.strings',\n",
       " 'j.w.m.',\n",
       " 'weeks.â',\n",
       " 'yahoo.it',\n",
       " 'accounts.i',\n",
       " 'freedentalguide.com',\n",
       " 'xxx.xxx.xxx.xxx',\n",
       " 'lww4.htm',\n",
       " 'moron.nl',\n",
       " 'basement.org']"
      ]
     },
     "execution_count": 11,
     "metadata": {},
     "output_type": "execute_result"
    }
   ],
   "source": [
    "# keep these\n",
    "list(otherdot)[:10]"
   ]
  },
  {
   "cell_type": "code",
   "execution_count": 12,
   "id": "f11d140b",
   "metadata": {},
   "outputs": [
    {
     "name": "stdout",
     "output_type": "stream",
     "text": [
      "260267\n"
     ]
    }
   ],
   "source": [
    "toskip = badwords | numbers\n",
    "print(len(toskip))"
   ]
  },
  {
   "cell_type": "code",
   "execution_count": 13,
   "id": "10a5f764",
   "metadata": {
    "scrolled": true
   },
   "outputs": [
    {
     "name": "stdout",
     "output_type": "stream",
     "text": [
      "True\n",
      "True\n",
      "True\n"
     ]
    }
   ],
   "source": [
    "print(\"piece.\" in toskip)\n",
    "print(\"quality.\" in toskip)\n",
    "print(\"interior.\" in toskip) "
   ]
  },
  {
   "cell_type": "code",
   "execution_count": 15,
   "id": "183fb675",
   "metadata": {},
   "outputs": [
    {
     "name": "stdout",
     "output_type": "stream",
     "text": [
      "time: 1657227 260267 10.859287023544312\n"
     ]
    }
   ],
   "source": [
    "glovefilefiltered = \"/Users/cschmidt/otherrepos/idf-glove/glove/glove.42B.300d.filtered.txt\"\n",
    "\n",
    "# filter out the vectors for the words in toskip\n",
    "kept = 0\n",
    "filtered = 0\n",
    "\n",
    "start_time = time.time()\n",
    "with open(glovefilefiltered, \"wt\") as out:\n",
    "    for l in open(glovefile, 'rt'):\n",
    "        v = getinitialword(l)\n",
    "        if v not in toskip:\n",
    "            kept += 1 \n",
    "            out.write(l)\n",
    "        else:\n",
    "            filtered += 1\n",
    "            \n",
    "print(\"time:\", kept, filtered, time.time() - start_time)"
   ]
  },
  {
   "cell_type": "code",
   "execution_count": 16,
   "id": "64ee89ba",
   "metadata": {},
   "outputs": [
    {
     "name": "stderr",
     "output_type": "stream",
     "text": [
      "Load Word Embeddings: 1657227Embeddings [02:21, 11677.17Embeddings/s]\n"
     ]
    }
   ],
   "source": [
    "# Load in the filtered text file, and make a tokenizer\n",
    "# covert to the right internal format\n",
    "# these embeddings are all lower case, so \n",
    "# have the tokenizer convert to lower case\n",
    "model = WordEmbeddings.from_text_file(glovefilefiltered,tokenizer=WhitespaceTokenizer(do_lower_case=True))"
   ]
  },
  {
   "cell_type": "code",
   "execution_count": 17,
   "id": "b6fb4ada",
   "metadata": {},
   "outputs": [],
   "source": [
    "# and dump it to disk\n",
    "savedmodel = \"/Users/cschmidt/otherrepos/idf-glove/glove/weightedoutput42\"\n",
    "model.save(savedmodel)"
   ]
  },
  {
   "cell_type": "code",
   "execution_count": 18,
   "id": "d007df30",
   "metadata": {},
   "outputs": [
    {
     "name": "stdout",
     "output_type": "stream",
     "text": [
      "1657227\n",
      "1657227\n",
      "time: 18.87205195426941\n"
     ]
    }
   ],
   "source": [
    "# redo vocab with filtering\n",
    "start_time = time.time()\n",
    "vocab = [getinitialword(l) for l in open(glovefilefiltered, 'rt').readlines()]\n",
    "\n",
    "vocabSet = set(vocab)\n",
    "print(len(vocab))\n",
    "print(len(vocabSet))\n",
    "\n",
    "print(\"time:\", vocab, vocabSet, time.time() - start_time)"
   ]
  },
  {
   "cell_type": "markdown",
   "id": "3397fb0e",
   "metadata": {},
   "source": [
    "# Get our Glove vocabulary"
   ]
  },
  {
   "cell_type": "code",
   "execution_count": 19,
   "id": "2c29f33d",
   "metadata": {},
   "outputs": [],
   "source": [
    "# augment this with our padding token that is in the tokenizer\n",
    "tokenvocab = [\"PADDING_TOKEN\"] + vocab"
   ]
  },
  {
   "cell_type": "code",
   "execution_count": 20,
   "id": "50d0679d",
   "metadata": {},
   "outputs": [
    {
     "name": "stdout",
     "output_type": "stream",
     "text": [
      "1657228\n"
     ]
    }
   ],
   "source": [
    "# given the index in vocab, give us the words back\n",
    "idx2word = { idx: w for (idx,w) in enumerate(tokenvocab) }\n",
    "print(len(idx2word))"
   ]
  },
  {
   "cell_type": "code",
   "execution_count": 21,
   "id": "4b372e57",
   "metadata": {},
   "outputs": [],
   "source": [
    "# can load it in directly\n",
    "# note that it ignores stopwords\n",
    "tokenizer = WhitespaceTokenizer().load(savedmodel)"
   ]
  },
  {
   "cell_type": "code",
   "execution_count": 22,
   "id": "d5ee9813",
   "metadata": {},
   "outputs": [],
   "source": [
    "# tokenize with our WhitespaceTokenizer, \n",
    "# but then return the actual words in a list\n",
    "def tokenizeWords(s):\n",
    "    return [idx2word[idx] for idx in tokenizer.tokenize(s)]"
   ]
  },
  {
   "cell_type": "code",
   "execution_count": 23,
   "id": "163bb84b",
   "metadata": {},
   "outputs": [
    {
     "name": "stdout",
     "output_type": "stream",
     "text": [
      "['cow', 'white']\n",
      "['cow', 'white']\n",
      "['cow', 'white']\n"
     ]
    }
   ],
   "source": [
    "words = tokenizeWords(\"cow white\")\n",
    "print(words)\n",
    "# stop words dissappear\n",
    "words = tokenizeWords(\"the cow is white\")\n",
    "print(words)\n",
    "# converts to lower case, drops punctuation\n",
    "words = tokenizeWords(\"the Cow is white!\")\n",
    "print(words)"
   ]
  },
  {
   "cell_type": "code",
   "execution_count": 27,
   "id": "5e29b888",
   "metadata": {},
   "outputs": [
    {
     "data": {
      "text/plain": [
       "['50', 'beanie', 'package', 'a.m.']"
      ]
     },
     "execution_count": 27,
     "metadata": {},
     "output_type": "execute_result"
    }
   ],
   "source": [
    "# you do end up with some . characters in the vocab\n",
    "# now have filtered some of these out\n",
    "tokenizeWords(\"50 beanie package. a.m. 7.36\")"
   ]
  },
  {
   "cell_type": "code",
   "execution_count": 28,
   "id": "5a919478",
   "metadata": {},
   "outputs": [
    {
     "data": {
      "text/plain": [
       "[]"
      ]
     },
     "execution_count": 28,
     "metadata": {},
     "output_type": "execute_result"
    }
   ],
   "source": [
    "tokenizeWords(\"8.5\")"
   ]
  },
  {
   "cell_type": "code",
   "execution_count": 26,
   "id": "5b5d1df7",
   "metadata": {},
   "outputs": [],
   "source": [
    "# compute our idf term, \n",
    "# for just those words in the vocabSet\n",
    "# add 1 so still works if no values ??\n",
    "# idf = { w : np.log(N/c) for (w,c) in wikidf.items() if w in vocabSet}\n",
    "# len(idf)"
   ]
  },
  {
   "cell_type": "code",
   "execution_count": 29,
   "id": "93430041",
   "metadata": {
    "scrolled": false
   },
   "outputs": [
    {
     "name": "stdout",
     "output_type": "stream",
     "text": [
      "0 0.0027091503143310547\n",
      "100 20.430618047714233\n",
      "200 41.83625411987305\n",
      "300 60.65954113006592\n",
      "400 82.61731910705566\n",
      "500 104.86676716804504\n",
      "600 127.89059615135193\n",
      "700 148.06602907180786\n",
      "800 170.23068809509277\n",
      "900 190.79873204231262\n",
      "1000 209.79683804512024\n",
      "1100 228.79774403572083\n",
      "1200 247.48914408683777\n",
      "1300 266.4047701358795\n",
      "1400 286.63281416893005\n",
      "1500 308.7200610637665\n",
      "1600 328.9879729747772\n",
      "1700 349.9434971809387\n",
      "1800 370.57430624961853\n",
      "1900 390.8628239631653\n",
      "2000 411.28292417526245\n",
      "2100 433.6215569972992\n",
      "2200 453.4350321292877\n",
      "2300 473.76387906074524\n",
      "2400 493.9031460285187\n",
      "2500 514.5479071140289\n",
      "2600 535.0809600353241\n",
      "2700 555.1044640541077\n",
      "2800 575.500785112381\n",
      "2900 597.0536060333252\n",
      "3000 617.7861762046814\n",
      "3100 637.6052160263062\n",
      "3200 657.8709189891815\n",
      "3300 679.0987811088562\n",
      "3400 700.4131379127502\n",
      "3500 721.0105049610138\n",
      "3600 740.8786859512329\n",
      "3700 761.38858294487\n",
      "3800 781.3772020339966\n",
      "3900 800.529176235199\n",
      "4000 821.0987939834595\n",
      "4100 842.0032362937927\n",
      "4200 863.7337129116058\n",
      "4300 886.2650530338287\n",
      "4400 908.4794719219208\n",
      "4500 929.9652240276337\n",
      "4600 951.7019031047821\n",
      "4700 971.329460144043\n",
      "4800 991.8201742172241\n",
      "4900 1011.5445189476013\n",
      "5000 1033.3254952430725\n",
      "5100 1054.1230890750885\n",
      "5200 1075.322190284729\n",
      "5300 1096.3718411922455\n",
      "5400 1117.313395023346\n",
      "5500 1139.2607641220093\n",
      "5600 1159.066395998001\n",
      "5700 1178.7459700107574\n",
      "5800 1198.1974761486053\n",
      "5900 1218.3546750545502\n",
      "6000 1239.4863801002502\n",
      "6100 1260.7320640087128\n",
      "6200 1281.903192281723\n",
      "6300 1302.3204061985016\n",
      "6400 1322.464863061905\n",
      "6500 1342.7290840148926\n",
      "6600 1362.751522064209\n",
      "6700 1382.3463649749756\n",
      "6800 1401.9222931861877\n",
      "6900 1421.3362300395966\n",
      "7000 1440.5417811870575\n",
      "7100 1460.033413887024\n",
      "7200 1480.0527110099792\n",
      "7300 1501.1172070503235\n",
      "7400 1521.5492990016937\n",
      "7500 1541.9739320278168\n",
      "7600 1564.4364681243896\n",
      "7700 1585.3584830760956\n",
      "7800 1606.4663071632385\n",
      "7900 1626.557415008545\n",
      "8000 1647.7438552379608\n",
      "8100 1669.6485409736633\n",
      "8200 1691.612058877945\n",
      "8300 1712.479387998581\n",
      "8400 1733.8989698886871\n",
      "8500 1756.1855461597443\n",
      "8600 1777.1033930778503\n",
      "8700 1798.1769170761108\n",
      "8800 1819.9666740894318\n",
      "8900 1841.1239702701569\n",
      "9000 1861.6019060611725\n",
      "9100 1882.7510170936584\n",
      "9200 1903.6023881435394\n",
      "9300 1925.2667829990387\n",
      "9400 1945.015300989151\n",
      "9500 1964.8876831531525\n",
      "9600 1985.453754901886\n",
      "9700 2007.0329461097717\n",
      "9800 2028.4165441989899\n",
      "9900 2049.337933063507\n",
      "10000 2069.6279940605164\n",
      "10100 2089.911588191986\n",
      "10200 2109.585666179657\n",
      "10300 2129.4559729099274\n",
      "10400 2148.9888899326324\n",
      "10500 2169.9096562862396\n",
      "10600 2189.532628059387\n",
      "10700 2210.085412979126\n",
      "10800 2232.712282896042\n",
      "10900 2253.418069124222\n",
      "11000 2274.3600430488586\n",
      "11100 2294.5439801216125\n",
      "11200 2315.3160111904144\n",
      "11300 2334.939066171646\n",
      "11400 2354.8764550685883\n",
      "11500 2374.644762992859\n",
      "11600 2394.432484149933\n",
      "11700 2414.222761154175\n",
      "11800 2435.9574811458588\n",
      "11900 2456.6719381809235\n",
      "12000 2476.1823902130127\n",
      "12100 2497.476716041565\n",
      "12200 2517.7217869758606\n",
      "12300 2538.7418711185455\n",
      "12400 2559.916990041733\n",
      "12500 2582.8367199897766\n",
      "12600 2604.0665040016174\n",
      "12700 2624.7254831790924\n",
      "12800 2644.625956296921\n",
      "12900 2665.5803542137146\n",
      "13000 2686.804526090622\n",
      "13100 2709.3760499954224\n",
      "13200 2729.9142920970917\n",
      "13300 2750.38116312027\n",
      "13400 2770.5090901851654\n",
      "13500 2790.949767112732\n",
      "13600 2811.3278391361237\n",
      "13700 2831.078101158142\n",
      "13800 2852.465234041214\n",
      "13900 2873.539630174637\n",
      "14000 2896.4186329841614\n",
      "14100 2917.596045255661\n",
      "14200 2937.8618021011353\n"
     ]
    }
   ],
   "source": [
    "# save clean to a file so we can compute information gain\n",
    "\n",
    "# note that collections just have an 'og:title' and 'product-handles'\n",
    "\n",
    "# output a single line, with space separated unique words\n",
    "# skip if no words (that are in the vocab)\n",
    "def getTokenizedText(d, out, row):\n",
    "    \n",
    "    text = \"\"\n",
    "    \n",
    "    for field in [\"og:title\", \"og:site_name\", \"og:description\"]:\n",
    "        if field in d:\n",
    "\n",
    "            # is occasionally a list, just use first then \n",
    "            if type(d[field]) == list:\n",
    "                text += d[field][0] + \" \"\n",
    "            else:\n",
    "                text += d[field] + \" \"\n",
    "    \n",
    "    # eliminate duplicates, ends up in arbitrary order\n",
    "    words = list(set(tokenizeWords(text)))\n",
    "    \n",
    "    # we want to generate pairs, so ignore ones with a single word\n",
    "    if len(words) > 1:\n",
    "        # space separate the words\n",
    "        words = \" \".join(words)\n",
    "        # tab between row and words\n",
    "        # out.write(str(row) + \"\\t\" + text + \"\\n\")\n",
    "        out.write(str(row) + \"\\t\" + words + \"\\n\")\n",
    "        # success so advance to next row\n",
    "        return row + 1\n",
    "    else:\n",
    "        return row\n",
    "    \n",
    "start_time = time.time()\n",
    "\n",
    "# directory for input data\n",
    "dirname = \"/Users/cschmidt/delomore/delomore-parse-output/output/\"\n",
    "row = 0\n",
    "\n",
    "# just save in this repo\n",
    "out = open(\"cleanwords.filtered.tsv\", \"wt\")\n",
    "\n",
    "# Use each page as a document here\n",
    "# 00000 to 14222\n",
    "for chunk in range(14223):\n",
    "    \n",
    "    if chunk % 100 == 0:\n",
    "        print(chunk, time.time() - start_time)\n",
    "    \n",
    "    chunkname = str(chunk).rjust(5, '0') + \".tsv\"\n",
    "\n",
    "    filename = dirname + chunkname\n",
    "    data = [l.rstrip().split(\"\\t\") for l in open(filename, 'rt').readlines()]    \n",
    "\n",
    "    for domain,displaydomain,url,alljson in data:\n",
    "\n",
    "        # convert to json\n",
    "        j = json.loads(alljson)\n",
    "\n",
    "        # are 4 possible kinds of pages to use\n",
    "        if \"about\" in j:\n",
    "            # is a possibly empty list\n",
    "            for d in j[\"about\"]:\n",
    "                row = getTokenizedText(d, out, row)\n",
    "\n",
    "        # note that collections just have an 'og:title' and 'product-handles'\n",
    "        if \"collections\" in j:\n",
    "            # is a dict with handles\n",
    "            for handle, d in j[\"collections\"].items():\n",
    "                row = getTokenizedText(d, out, row)\n",
    "\n",
    "        # has handles\n",
    "        if \"products\" in j:\n",
    "            # is a dict with handles\n",
    "            for handle, d in j[\"products\"].items():\n",
    "                row = getTokenizedText(d, out, row)\n",
    "\n",
    "        # has handles\n",
    "        if \"homepage\" in j:\n",
    "            # is a possibly empty list\n",
    "            for d in j[\"homepage\"]:\n",
    "                row = getTokenizedText(d, out, row)\n",
    "\n",
    "out.close()"
   ]
  },
  {
   "cell_type": "markdown",
   "id": "f8654001",
   "metadata": {},
   "source": [
    "# Use the values for Information Gain"
   ]
  },
  {
   "cell_type": "code",
   "execution_count": 184,
   "id": "cc4d0084",
   "metadata": {},
   "outputs": [
    {
     "name": "stdout",
     "output_type": "stream",
     "text": [
      "851216\n",
      "851216\n",
      "851216\n"
     ]
    }
   ],
   "source": [
    "import pandas as pd\n",
    "igdf = pd.read_csv(\"/Users/cschmidt/otherrepos/idf-glove/e73f3955-ae36-4e87-bf0e-e3bafb16b66e.csv\")\n",
    "print(len(igdf))\n",
    "igdf = igdf[igdf[\"df\"] > 1.0]\n",
    "print(len(igdf))\n",
    "\n",
    "igvocab = igdf[\"y\"].values\n",
    "ig = igdf[\"ig\"].values\n",
    "logig = [log(gain) for gain in ig]\n",
    "df = igdf[\"df\"].values\n",
    "\n",
    "# huh, a bunch must be in a single page\n",
    "print(len(igvocab))"
   ]
  },
  {
   "cell_type": "code",
   "execution_count": 185,
   "id": "1c141f5a",
   "metadata": {
    "scrolled": true
   },
   "outputs": [
    {
     "name": "stdout",
     "output_type": "stream",
     "text": [
      "2.0 6995638.0\n"
     ]
    }
   ],
   "source": [
    "print(min(df),max(df))"
   ]
  },
  {
   "cell_type": "code",
   "execution_count": 186,
   "id": "220567f0",
   "metadata": {},
   "outputs": [],
   "source": [
    "# total number of documents is much bigger\n",
    "N = 62551463"
   ]
  },
  {
   "cell_type": "code",
   "execution_count": 187,
   "id": "1e474c03",
   "metadata": {
    "scrolled": false
   },
   "outputs": [
    {
     "data": {
      "text/html": [
       "<div>\n",
       "<style scoped>\n",
       "    .dataframe tbody tr th:only-of-type {\n",
       "        vertical-align: middle;\n",
       "    }\n",
       "\n",
       "    .dataframe tbody tr th {\n",
       "        vertical-align: top;\n",
       "    }\n",
       "\n",
       "    .dataframe thead th {\n",
       "        text-align: right;\n",
       "    }\n",
       "</style>\n",
       "<table border=\"1\" class=\"dataframe\">\n",
       "  <thead>\n",
       "    <tr style=\"text-align: right;\">\n",
       "      <th></th>\n",
       "      <th>y</th>\n",
       "      <th>ig</th>\n",
       "      <th>df</th>\n",
       "    </tr>\n",
       "  </thead>\n",
       "  <tbody>\n",
       "    <tr>\n",
       "      <th>0</th>\n",
       "      <td>increased</td>\n",
       "      <td>69.746048</td>\n",
       "      <td>110100.0</td>\n",
       "    </tr>\n",
       "    <tr>\n",
       "      <th>1</th>\n",
       "      <td>pin</td>\n",
       "      <td>11.840057</td>\n",
       "      <td>314004.0</td>\n",
       "    </tr>\n",
       "    <tr>\n",
       "      <th>2</th>\n",
       "      <td>personalization</td>\n",
       "      <td>32.981563</td>\n",
       "      <td>46536.0</td>\n",
       "    </tr>\n",
       "    <tr>\n",
       "      <th>3</th>\n",
       "      <td>year</td>\n",
       "      <td>23.926281</td>\n",
       "      <td>788657.0</td>\n",
       "    </tr>\n",
       "    <tr>\n",
       "      <th>4</th>\n",
       "      <td>traditional</td>\n",
       "      <td>19.854489</td>\n",
       "      <td>714412.0</td>\n",
       "    </tr>\n",
       "  </tbody>\n",
       "</table>\n",
       "</div>"
      ],
      "text/plain": [
       "                 y         ig        df\n",
       "0        increased  69.746048  110100.0\n",
       "1              pin  11.840057  314004.0\n",
       "2  personalization  32.981563   46536.0\n",
       "3             year  23.926281  788657.0\n",
       "4      traditional  19.854489  714412.0"
      ]
     },
     "execution_count": 187,
     "metadata": {},
     "output_type": "execute_result"
    }
   ],
   "source": [
    "igdf.head()"
   ]
  },
  {
   "cell_type": "code",
   "execution_count": 193,
   "id": "720055ea",
   "metadata": {},
   "outputs": [
    {
     "name": "stdout",
     "output_type": "stream",
     "text": [
      "851216\n"
     ]
    }
   ],
   "source": [
    "# do in forward sorted order\n",
    "# and include regular ig\n",
    "logtriples = sorted(zip(logig,igvocab,df))\n",
    "print(len(logtriples))"
   ]
  },
  {
   "cell_type": "code",
   "execution_count": 194,
   "id": "6bb935ef",
   "metadata": {},
   "outputs": [
    {
     "name": "stdout",
     "output_type": "stream",
     "text": [
      "851216\n"
     ]
    }
   ],
   "source": [
    "triples = sorted(zip(ig,igvocab,df))\n",
    "print(len(triples))"
   ]
  },
  {
   "cell_type": "code",
   "execution_count": 195,
   "id": "72dfbc75",
   "metadata": {
    "scrolled": false
   },
   "outputs": [
    {
     "data": {
      "text/plain": [
       "[(1.8915581190668933, 'shop', 3555773.0),\n",
       " (5.857663604233599, 'online', 2027319.0),\n",
       " (5.954190439095553, 'store', 2457484.0),\n",
       " (6.199797206673628, 'black', 4732740.0),\n",
       " (6.794406939206565, 'blue', 2481810.0),\n",
       " (7.516448653709461, 'white', 3792385.0),\n",
       " (8.653661285005734, 'collection', 2499731.0),\n",
       " (9.390529106362967, 'set', 3205157.0),\n",
       " (10.73833539564858, 'x', 5424650.0),\n",
       " (10.855846555205725, 'available', 3613522.0),\n",
       " (11.207640801077588, 'new', 3820343.0),\n",
       " (11.276468302607132, 'classic', 2181285.0),\n",
       " (11.305417997477967, 'size', 6995638.0),\n",
       " (11.42372416742235, 'perfect', 5133013.0),\n",
       " (11.622765523514946, 'style', 3781796.0),\n",
       " (12.351495103556408, 'long', 2598445.0),\n",
       " (12.550034230513283, 'gold', 2982774.0),\n",
       " (12.557572356512685, '100', 5330145.0),\n",
       " (12.585423550474037, 'great', 2912332.0),\n",
       " (12.604722560308964, 'free', 3503298.0),\n",
       " (12.622098000289888, 'love', 2353170.0),\n",
       " (12.849627422065138, 'beautiful', 2295289.0),\n",
       " (12.875548350658825, 'silver', 2314650.0),\n",
       " (13.04503418957565, 'color', 3355405.0),\n",
       " (13.067103992513363, 'print', 2596470.0),\n",
       " (13.150434193029652, 'design', 4442378.0),\n",
       " (13.184141757171709, '2', 3411244.0),\n",
       " (13.30484194386468, 'home', 2386984.0),\n",
       " (13.416387722762972, 'small', 2338345.0),\n",
       " (13.596893973691344, '3', 2733218.0),\n",
       " (13.62206965590209, '4', 2163638.0),\n",
       " (13.676935759061786, '1', 3225441.0),\n",
       " (13.680008248564995, 'best', 2367298.0),\n",
       " (13.91291451937508, 'shipping', 2435177.0),\n",
       " (13.98352393933105, 'hand', 2823683.0),\n",
       " (14.082681084173124, 'gift', 2075145.0),\n",
       " (14.3666469172606, '5', 2138417.0),\n",
       " (14.6565971926351, 'material', 3060290.0),\n",
       " (14.658177180718916, 'high', 3447679.0),\n",
       " (14.696449792662811, 'unique', 2132869.0),\n",
       " (15.153540888787749, 'quality', 3457557.0),\n",
       " (15.248097205747932, 'light', 2191543.0),\n",
       " (15.260474075402495, 'designed', 2831606.0),\n",
       " (15.850985258601671, 'printed', 2085472.0),\n",
       " (16.094870400296447, 'cotton', 4630548.0),\n",
       " (16.310718210517525, 'look', 2433571.0),\n",
       " (16.385616922296528, 'features', 3927434.0),\n",
       " (17.215003127612047, 'soft', 3401237.0),\n",
       " (18.087972336208427, 'product', 2920565.0),\n",
       " (18.39975575626477, 'make', 2565540.0),\n",
       " (18.82687014429181, 'length', 2697484.0),\n",
       " (18.99248930595685, 'fit', 3367591.0),\n",
       " (19.658623576660148, 'fabric', 3223671.0),\n",
       " (20.096337223767872, 'like', 2121408.0),\n",
       " (20.38287525407865, 'easy', 2374565.0),\n",
       " (20.88607686273782, 'natural', 2297887.0),\n",
       " (22.295427387892307, 'polyester', 2416583.0),\n",
       " (24.616223619147444, 'use', 3018017.0)]"
      ]
     },
     "execution_count": 195,
     "metadata": {},
     "output_type": "execute_result"
    }
   ],
   "source": [
    "[(gain,w,df) for (gain,w,df) in triples if df > 2000000]"
   ]
  },
  {
   "cell_type": "code",
   "execution_count": 196,
   "id": "e4318370",
   "metadata": {},
   "outputs": [],
   "source": [
    "logiglookup = { w : gain for (w,gain) in zip(igvocab,logig)}\n",
    "iglookup = { w : gain for (w,gain) in zip(igvocab,ig)}"
   ]
  },
  {
   "cell_type": "code",
   "execution_count": 197,
   "id": "9127ef11",
   "metadata": {},
   "outputs": [
    {
     "name": "stdout",
     "output_type": "stream",
     "text": [
      "3.418185042833588\n",
      "3.2531189656544583\n",
      "30.513983160627262\n",
      "25.870904675658107\n"
     ]
    }
   ],
   "source": [
    "print(logiglookup[\"weighted\"])\n",
    "print(logiglookup[\"blanket\"])\n",
    "\n",
    "print(iglookup[\"weighted\"])\n",
    "print(iglookup[\"blanket\"])"
   ]
  },
  {
   "cell_type": "code",
   "execution_count": 198,
   "id": "0f416396",
   "metadata": {},
   "outputs": [
    {
     "name": "stdout",
     "output_type": "stream",
     "text": [
      "american 2.8887366842262323 17.97059272202579\n",
      "aprons 3.4533988647954175 31.60764004023112\n",
      "bags 2.7823054882790994 16.15622603335825\n",
      "blanket 3.2531189656544583 25.870904675658107\n",
      "blankets 3.543992155079039 34.60479149807041\n",
      "board 2.9743915367492915 19.5777073093269\n",
      "british 3.1242696502284257 22.7432784780534\n",
      "camera 3.770159239602663 43.38697321016838\n",
      "chef 3.3739220740959737 29.192799140823837\n",
      "chocolate 3.193168826129651 24.36551532115929\n",
      "cloth 3.324166425557202 27.775835763199147\n",
      "facemask 3.668374845894987 39.18816727090962\n",
      "fashion 2.368893531285178 10.685562500068388\n",
      "fun 2.6457828157435945 14.09447414195676\n",
      "games 3.302162731575643 27.17133973512245\n",
      "handbags 3.2361314782411217 25.43513480500244\n",
      "hoodies 3.349830903748783 28.49791434583277\n",
      "knitwear 3.3367490316554473 28.127536177398795\n",
      "leather 2.7556978062575554 15.732014971962617\n",
      "luxury 2.7084351498406516 15.005775342610727\n",
      "mattresses 3.8126433702352864 45.26994607383858\n",
      "men 2.922390688068383 18.58566692203768\n",
      "metal 2.67187575478638 14.46708045322056\n",
      "native 3.3700848768199227 29.080995255446677\n",
      "notebooks 3.615983120518012 37.187888135852845\n",
      "pajamas 3.485250055749185 32.630585555301195\n",
      "pens 3.389459265116739 29.649915191425865\n",
      "pottery 3.288931589043648 26.81419976140486\n",
      "shaving 3.728807489710643 41.62943502244528\n",
      "shoes 2.914888385466349 18.446753362065746\n",
      "tea 3.242469201745567 25.59684756077231\n",
      "teen 3.559801629700157 35.1562225029493\n",
      "weighted 3.418185042833588 30.513983160627262\n",
      "red 2.034182250631458 7.645997059021999\n",
      "m -1 -1\n",
      "xl 3.7701087366062382 43.384782093344896\n",
      "chicago 2.8662999634382498 17.571881166671737\n"
     ]
    }
   ],
   "source": [
    "test = [\n",
    "    \"american\",\n",
    "\"aprons\",\n",
    "\"bags\",\n",
    "\"blanket\",\n",
    "\"blankets\",\n",
    "\"board\",\n",
    "\"british\",\n",
    "\"camera\",\n",
    "\"chef\",\n",
    "\"chocolate\",\n",
    "\"cloth\",\n",
    "\"facemask\",\n",
    "\"fashion\",\n",
    "\"fun\",\n",
    "\"games\",\n",
    "\"handbags\",\n",
    "\"hoodies\",\n",
    "\"knitwear\",\n",
    "\"leather\",\n",
    "\"luxury\",\n",
    "\"mattresses\",\n",
    "\"men\",\n",
    "\"metal\",\n",
    "\"native\",\n",
    "\"notebooks\",\n",
    "\"pajamas\",\n",
    "\"pens\",\n",
    "\"pottery\",\n",
    "\"shaving\",\n",
    "\"shoes\",\n",
    "\"tea\",\n",
    "\"teen\",\n",
    "\"weighted\",\n",
    "\"red\",\n",
    "\"m\",\n",
    "\"xl\", \n",
    "\"chicago\"\n",
    "]\n",
    "for w in test:\n",
    "    print(w, logiglookup.get(w,-1), iglookup.get(w,-1))"
   ]
  },
  {
   "cell_type": "code",
   "execution_count": 199,
   "id": "15997543",
   "metadata": {
    "scrolled": false
   },
   "outputs": [
    {
     "data": {
      "text/plain": [
       "[(1.8368439952115456, 'whink', 1969.0),\n",
       " (1.8915581190668933, 'shop', 3555773.0),\n",
       " (2.3066991024224075, 'clytaemnestra', 3.0),\n",
       " (2.6827412815699008, 'feaured', 2.0),\n",
       " (2.8029945171530986, 'icdi', 4.0),\n",
       " (2.805790596860934, 'diamondstar', 2.0),\n",
       " (2.8257714902992896, 'steeling', 1257.0),\n",
       " (3.536365522991127, 'mascorro', 334.0),\n",
       " (3.640725375507359, 'stylefinder', 2345.0),\n",
       " (4.456467825523223, 'st.giles', 8.0),\n",
       " (4.492109895325976, 'grubi', 2.0),\n",
       " (4.519468669157711, 'bayb', 167.0),\n",
       " (4.5505621786975405, 'boutique', 1793463.0),\n",
       " (4.571293183829903, 'pregno', 2.0),\n",
       " (4.6345168496611855, 'cronian', 2.0),\n",
       " (4.698973137186169, 'moonshake', 885.0),\n",
       " (4.839672514173161, 're-fashion', 3972.0),\n",
       " (4.939348414212057, 'turbon', 277.0),\n",
       " (4.965756391244324, 'transmode', 2.0),\n",
       " (4.974307611188786, 'iart', 507.0)]"
      ]
     },
     "execution_count": 199,
     "metadata": {},
     "output_type": "execute_result"
    }
   ],
   "source": [
    "triples[:20]"
   ]
  },
  {
   "cell_type": "code",
   "execution_count": 200,
   "id": "51016c84",
   "metadata": {
    "scrolled": false
   },
   "outputs": [
    {
     "data": {
      "text/plain": [
       "[(17142.731339203412, 'austill', 2.0),\n",
       " (17193.544057183593, 'sharick', 2.0),\n",
       " (17274.129722577636, 'radloff', 2.0),\n",
       " (17430.764777935103, 'stenerson', 2.0),\n",
       " (17598.51709329118, 'mcclarren', 2.0),\n",
       " (17659.263080277415, 'rierson', 2.0),\n",
       " (17681.458676256254, 'guwange', 7.0),\n",
       " (17722.13286420623, 'cartter', 2.0),\n",
       " (17895.271097170003, 'gitchell', 2.0),\n",
       " (17957.401014982086, 'tollerson', 2.0),\n",
       " (17981.66434800285, 'evenes', 2.0),\n",
       " (17981.664348002854, 'hineman', 2.0),\n",
       " (18000.410495586373, 'toukon', 7.0),\n",
       " (18000.41049558641, 'xess', 7.0),\n",
       " (18115.077081666783, 'stwart', 2.0),\n",
       " (18197.41032645542, 'stogsdill', 3.0),\n",
       " (18261.771569366123, 'matkins', 2.0),\n",
       " (18265.20343218498, 'harns', 2.0),\n",
       " (18369.56161451598, 'kepley', 2.0),\n",
       " (18476.50603691817, 'zeimer', 2.0),\n",
       " (18698.72481398337, 'leighty', 2.0),\n",
       " (18974.326714999843, 'hauth', 2.0),\n",
       " (19127.69301134572, 'tallett', 2.0),\n",
       " (19214.33375745006, 'iinkai', 5.0),\n",
       " (19410.493665758186, 'goehler', 2.0),\n",
       " (19681.93375476692, 'rickerson', 3.0),\n",
       " (19727.40444279256, 'dartt', 2.0),\n",
       " (19738.24024723403, 'wickiser', 2.0),\n",
       " (19738.24024723405, 'mccubbins', 2.0),\n",
       " (19921.407455415207, 'harpending', 2.0),\n",
       " (20157.56240728074, 'gerred', 2.0),\n",
       " (20199.926342650364, 'blocken', 6.0),\n",
       " (20199.926342650364, 'dragonninja', 6.0),\n",
       " (20199.92634265037, 'hatena', 6.0),\n",
       " (20199.9263426504, 'cachat', 6.0),\n",
       " (20282.439595830223, 'thronson', 2.0),\n",
       " (20282.43959583026, 'hasey', 2.0),\n",
       " (21313.55689049588, 'estabrooks', 2.0),\n",
       " (21353.61974514057, 'pleiads', 5.0),\n",
       " (24565.791820731745, 'burningfp', 4.0)]"
      ]
     },
     "execution_count": 200,
     "metadata": {},
     "output_type": "execute_result"
    }
   ],
   "source": [
    "triples[-40:]"
   ]
  },
  {
   "cell_type": "code",
   "execution_count": 201,
   "id": "2bd9654a",
   "metadata": {},
   "outputs": [],
   "source": [
    "sortedig = sorted(ig)"
   ]
  },
  {
   "cell_type": "code",
   "execution_count": 202,
   "id": "8ce2e14d",
   "metadata": {},
   "outputs": [
    {
     "data": {
      "text/plain": [
       "<matplotlib.collections.LineCollection at 0x7fcfa7f393d0>"
      ]
     },
     "execution_count": 202,
     "metadata": {},
     "output_type": "execute_result"
    },
    {
     "data": {
      "image/png": "[encoded data removed]",
      "text/plain": [
       "<Figure size 720x720 with 1 Axes>"
      ]
     },
     "metadata": {
      "needs_background": "light"
     },
     "output_type": "display_data"
    }
   ],
   "source": [
    "plt.rcParams['figure.figsize'] = [10, 10]\n",
    "plt.plot(sortedig)\n",
    "plt.hlines(y=0,xmin=0, xmax=len(ig), color=\"red\")"
   ]
  },
  {
   "cell_type": "code",
   "execution_count": 203,
   "id": "e5c624fd",
   "metadata": {},
   "outputs": [
    {
     "data": {
      "text/plain": [
       "[<matplotlib.lines.Line2D at 0x7fce8d713cd0>]"
      ]
     },
     "execution_count": 203,
     "metadata": {},
     "output_type": "execute_result"
    },
    {
     "data": {
      "image/png": "[encoded data removed]",
      "text/plain": [
       "<Figure size 720x720 with 1 Axes>"
      ]
     },
     "metadata": {
      "needs_background": "light"
     },
     "output_type": "display_data"
    }
   ],
   "source": [
    "# lets see how it looks before zooming off\n",
    "plt.rcParams['figure.figsize'] = [10, 10]\n",
    "plt.plot(sortedig[:780000])"
   ]
  },
  {
   "cell_type": "code",
   "execution_count": 204,
   "id": "8c255fd0",
   "metadata": {},
   "outputs": [
    {
     "name": "stdout",
     "output_type": "stream",
     "text": [
      "0.00016788661638730674\n",
      "87.97497530361497\n"
     ]
    }
   ],
   "source": [
    "# it has a nice linear region, so lets extend that out to cut off the larger values\n",
    "# what is our slope around 200000\n",
    "# delta y / delta x\n",
    "slope = (sortedig[201000] - sortedig[200000])/(201000 - 200000)\n",
    "\n",
    "print(slope)\n",
    "intercept = sortedig[200000]\n",
    "print(intercept)"
   ]
  },
  {
   "cell_type": "code",
   "execution_count": 209,
   "id": "1b7c5ba8",
   "metadata": {},
   "outputs": [
    {
     "name": "stdout",
     "output_type": "stream",
     "text": [
      "851216\n"
     ]
    }
   ],
   "source": [
    "# now make a series that is linear from 200000 on \n",
    "linear = []\n",
    "quad = []\n",
    "linlookup = {}\n",
    "for i, (gain,w,df) in enumerate(triples):\n",
    "    if i <= 200000:\n",
    "        lin = gain\n",
    "    else:\n",
    "        # linear approximation\n",
    "        lin = intercept + slope*(i-200000)\n",
    "    \n",
    "    linear.append(lin)\n",
    "    quad.append((gain,w,df,lin))\n",
    "    linlookup[w] = lin\n",
    "print(len(linear))"
   ]
  },
  {
   "cell_type": "code",
   "execution_count": 207,
   "id": "941ea4c0",
   "metadata": {},
   "outputs": [
    {
     "data": {
      "text/plain": [
       "[<matplotlib.lines.Line2D at 0x7fcf90df0ac0>]"
      ]
     },
     "execution_count": 207,
     "metadata": {},
     "output_type": "execute_result"
    },
    {
     "data": {
      "image/png": "[encoded data removed]",
      "text/plain": [
       "<Figure size 720x720 with 1 Axes>"
      ]
     },
     "metadata": {
      "needs_background": "light"
     },
     "output_type": "display_data"
    }
   ],
   "source": [
    "# did we do that right?\n",
    "sortedig = sorted(ig)\n",
    "plt.rcParams['figure.figsize'] = [10, 10]\n",
    "plt.plot(linear)\n",
    "plt.plot(sortedig[:780000])"
   ]
  },
  {
   "cell_type": "code",
   "execution_count": 208,
   "id": "48c7c4b6",
   "metadata": {},
   "outputs": [
    {
     "data": {
      "text/plain": [
       "<matplotlib.collections.LineCollection at 0x7fcf91015640>"
      ]
     },
     "execution_count": 208,
     "metadata": {},
     "output_type": "execute_result"
    },
    {
     "data": {
      "image/png": "[encoded data removed]",
      "text/plain": [
       "<Figure size 720x720 with 1 Axes>"
      ]
     },
     "metadata": {
      "needs_background": "light"
     },
     "output_type": "display_data"
    }
   ],
   "source": [
    "# log information gain looks nice too\n",
    "# lets weight based on this\n",
    "plt.rcParams['figure.figsize'] = [10, 10]\n",
    "plt.plot(sorted(logig))\n",
    "plt.hlines(y=np.median(logig),xmin=0, xmax=len(ig), color=\"red\")"
   ]
  },
  {
   "cell_type": "code",
   "execution_count": null,
   "id": "f3768464",
   "metadata": {},
   "outputs": [],
   "source": [
    "# wc cleanwords.tsv\n",
    "# 62,587,173 1,658,580,366 11711434739 cleanwords.tsv"
   ]
  },
  {
   "cell_type": "code",
   "execution_count": 214,
   "id": "082b92fd",
   "metadata": {},
   "outputs": [
    {
     "name": "stdout",
     "output_type": "stream",
     "text": [
      "time: 851213 806014 318.9523992538452\n"
     ]
    }
   ],
   "source": [
    "# now update our filtered vectors file, \n",
    "# only keeping those rows in logiglookup,\n",
    "# and multiplying each row by the logig value\n",
    "\n",
    "glovefile =   \"/Users/cschmidt/otherrepos/idf-glove/glove/glove.42B.300d.filtered.txt\"\n",
    "# weightedout = \"/Users/cschmidt/otherrepos/idf-glove/glove/glove.42B.300d.logig.txt\"\n",
    "weightedout = \"/Users/cschmidt/otherrepos/idf-glove/glove/glove.42B.300d.iglinear.txt\"\n",
    "\n",
    "# get everything up to the first space\n",
    "def getinitialword(s):\n",
    "    return s[:s.find(\" \")]\n",
    "\n",
    "out = open(weightedout, \"wt\")\n",
    "\n",
    "written = 0\n",
    "skipped = 0\n",
    "\n",
    "start_time = time.time()\n",
    "for line in open(glovefile, 'rt'):\n",
    "    # this will be a bit faster, since most won't be in idf3\n",
    "    gw = getinitialword(line)\n",
    "    # only keep if have a valid weight\n",
    "    if gw in logiglookup:\n",
    "        vec = line.rstrip().split(\" \")\n",
    "        assert vec[0] == gw\n",
    "        # drop the word\n",
    "        vec = vec[1:]\n",
    "        vec = np.array([float(x) for x in vec])\n",
    "        # need to normalize\n",
    "        vec /= norm(vec)\n",
    "        # and multiply by logiglookup\n",
    "        # vec *= logiglookup[gw]\n",
    "        vec *= linlookup[gw]\n",
    "        out.write(gw + \" \" + \" \".join([str(a) for a in vec]) + \"\\n\")\n",
    "        written += 1\n",
    "    else:\n",
    "        skipped += 1\n",
    "        \n",
    "print(\"time:\", written, skipped, time.time() - start_time)\n",
    "out.close()"
   ]
  },
  {
   "cell_type": "code",
   "execution_count": 211,
   "id": "918b36c3",
   "metadata": {},
   "outputs": [
    {
     "name": "stdout",
     "output_type": "stream",
     "text": [
      "3.418185042833588\n",
      "3.2531189656544583\n",
      "30.513983160627262\n",
      "25.870904675658107\n"
     ]
    }
   ],
   "source": [
    "print(logiglookup[\"weighted\"])\n",
    "print(logiglookup[\"blanket\"])\n",
    "print(linlookup[\"weighted\"])\n",
    "print(linlookup[\"blanket\"])"
   ]
  },
  {
   "cell_type": "code",
   "execution_count": 212,
   "id": "2f38aa67",
   "metadata": {
    "scrolled": false
   },
   "outputs": [
    {
     "name": "stdout",
     "output_type": "stream",
     "text": [
      "bearaby 0.0 0.0\n",
      "weighted 30.513983160627262 3.418185042833588\n",
      "blanket 25.870904675658107 3.2531189656544583\n",
      "made 0.0 0.0\n",
      "without 0.0 0.0\n",
      "artificial 46.705330141896766 3.843858293962644\n",
      "fillers 66.78556366463901 4.201486944382058\n",
      "or 0.0 0.0\n",
      "synthetic 28.840631056851432 3.361785193482884\n",
      "fabrics 21.574233337369996 3.0714997015696346\n",
      "Naturally 0.0 0.0\n",
      "heavy 22.58045557995338 3.1170847347780923\n",
      "cooling 47.40362649078554 3.8586987340188452\n",
      "and 0.0 0.0\n",
      "hand-knit 36.877763256114015 3.607608747611464\n",
      "with 0.0 0.0\n",
      "organic 22.427068359787377 3.110268638241677\n",
      "materials 21.92332810213389 3.0875512800317972\n",
      "Buy 0.0 0.0\n",
      "weighted 30.513983160627262 3.418185042833588\n",
      "blanket 25.870904675658107 3.2531189656544583\n",
      "now 0.0 0.0\n"
     ]
    }
   ],
   "source": [
    "# just look at an example\n",
    "test = [\"bearaby\",\n",
    "\"weighted\",\n",
    "\"blanket\",\n",
    "\"made\",\n",
    "\"without\",\n",
    "\"artificial\",\n",
    "\"fillers\",\n",
    "\"or\",\n",
    "\"synthetic\",\n",
    "\"fabrics\",\n",
    "\"Naturally\",\n",
    "\"heavy\",\n",
    "\"cooling\",\n",
    "\"and\",\n",
    "\"hand-knit\",\n",
    "\"with\",\n",
    "\"organic\",\n",
    "\"materials\",\n",
    "\"Buy\",\n",
    "\"weighted\",\n",
    "\"blanket\",\n",
    "\"now\"]\n",
    "        \n",
    "for w in test:\n",
    "    print(w, linlookup.get(w,0.0), logiglookup.get(w,0.0))"
   ]
  },
  {
   "cell_type": "code",
   "execution_count": 213,
   "id": "0aff08dd",
   "metadata": {},
   "outputs": [
    {
     "name": "stdout",
     "output_type": "stream",
     "text": [
      "mattresses 45.26994607383858 0.9652814326798368\n",
      "camera 43.38697321016838 0.9692005319448882\n",
      "xl 43.384782093344896 0.9692052311046785\n",
      "shaving 41.62943502244528 0.9726743858198155\n",
      "facemask 39.18816727090962 0.9770046615665119\n",
      "notebooks 37.187888135852845 0.9802623540910885\n",
      "teen 35.1562225029493 0.9834260634198605\n",
      "blankets 34.60479149807041 0.9841708802466119\n",
      "pajamas 32.630585555301195 0.986864673596361\n",
      "aprons 31.60764004023112 0.9881240484201425\n",
      "weighted 30.513983160627262 0.9893881224037142\n",
      "pens 29.649915191425865 0.9903385274712881\n",
      "chef 29.192799140823837 0.990795520760888\n",
      "native 29.080995255446677 0.9909247476551193\n",
      "hoodies 28.49791434583277 0.9914874720399992\n",
      "knitwear 28.127536177398795 0.9918528317136895\n",
      "cloth 27.775835763199147 0.992178248529163\n",
      "games 27.17133973512245 0.9927339241743576\n",
      "pottery 26.81419976140486 0.9930546418300408\n",
      "blanket 25.870904675658107 0.9938335275652713\n",
      "tea 25.59684756077231 0.9940297174865134\n",
      "handbags 25.43513480500244 0.994153070431007\n",
      "chocolate 24.36551532115929 0.9949671998646642\n",
      "british 22.7432784780534 0.9961032217439522\n",
      "board 19.5777073093269 0.9977737730493788\n",
      "men 18.58566692203768 0.998187299110919\n",
      "shoes 18.446753362065746 0.9982495629781395\n",
      "american 17.97059272202579 0.9984293058401158\n",
      "chicago 17.571881166671737 0.9985679310539276\n",
      "bags 16.15622603335825 0.9989826319054154\n",
      "leather 15.732014971962617 0.9990907125805906\n",
      "luxury 15.005775342610727 0.9992504840134584\n",
      "metal 14.46708045322056 0.9993679630082142\n",
      "fun 14.09447414195676 0.9994255277156444\n",
      "fashion 10.685562500068388 0.9997991109189677\n",
      "red 7.645997059021999 0.9999165899137235\n",
      "m 0.0 -1\n"
     ]
    }
   ],
   "source": [
    "test = [\"Protection\",\n",
    "\"Baby\",\n",
    "\"Blanket\",\n",
    "\"Eighth\",\n",
    "\"Generation\",\n",
    "\"Native\",\n",
    "\"American\",\n",
    "\"designed\",\n",
    "\"Wool\",\n",
    "\"Baby\",\n",
    "\"Blankets\",\n",
    "\"by\",\n",
    "\"Eighth\",\n",
    "\"Generation\",\n",
    "\"Wool\",\n",
    "\"Blanket\",\n",
    "\"design\",\n",
    "\"features\",\n",
    "\"Blackfeet\",\n",
    "\"ledger\",\n",
    "\"art\",\n",
    "\"by\",\n",
    "\"Native\",\n",
    "\"American\",\n",
    "\"artist\",\n",
    "\"John\",\n",
    "\"Isaiah\",\n",
    "\"Pepion\",\n",
    "\"Native\",\n",
    "\"American\",\n",
    "\"&\",\n",
    "\"Indian\",\n",
    "\"Wool\",\n",
    "\"Blanket\",\n",
    "\"fashion\",\n",
    "\"for\",\n",
    "\"Men\",\n",
    "\"Women\",\n",
    "\"&\",\n",
    "\"Home\",\n",
    "\"Shop\",\n",
    "\"Quality\",\n",
    "\"Native\",\n",
    "\"American\",\n",
    "\"made\",\n",
    "\"Wool\",\n",
    "\"Blankets\",\n",
    "\"that\",\n",
    "\"feature\",\n",
    "\"authentic\",\n",
    "\"Native\",\n",
    "\"American\",\n",
    "\"art\"]\n",
    "\n",
    "test = [\n",
    "    \"american\",\n",
    "\"aprons\",\n",
    "\"bags\",\n",
    "\"blanket\",\n",
    "\"blankets\",\n",
    "\"board\",\n",
    "\"british\",\n",
    "\"camera\",\n",
    "\"chef\",\n",
    "\"chocolate\",\n",
    "\"cloth\",\n",
    "\"facemask\",\n",
    "\"fashion\",\n",
    "\"fun\",\n",
    "\"games\",\n",
    "\"handbags\",\n",
    "\"hoodies\",\n",
    "\"knitwear\",\n",
    "\"leather\",\n",
    "\"luxury\",\n",
    "\"mattresses\",\n",
    "\"men\",\n",
    "\"metal\",\n",
    "\"native\",\n",
    "\"notebooks\",\n",
    "\"pajamas\",\n",
    "\"pens\",\n",
    "\"pottery\",\n",
    "\"shaving\",\n",
    "\"shoes\",\n",
    "\"tea\",\n",
    "\"teen\",\n",
    "\"weighted\",\n",
    "\"red\",\n",
    "\"m\",\n",
    "\"xl\", \n",
    "\"chicago\"\n",
    "]\n",
    "\n",
    "tosort = sorted([(linlookup.get(w,0.0),w) for w in test], reverse=True)\n",
    "\n",
    "huh = []\n",
    "for s,w in tosort:\n",
    "    print(w, s, ranks.get(w, -1))\n",
    "    huh.append(ranks.get(w, -1))\n",
    "    \n",
    "huh = sorted(huh)"
   ]
  },
  {
   "cell_type": "code",
   "execution_count": 215,
   "id": "14899410",
   "metadata": {},
   "outputs": [
    {
     "name": "stderr",
     "output_type": "stream",
     "text": [
      "Load Word Embeddings: 851213Embeddings [02:12, 6420.47Embeddings/s]\n"
     ]
    }
   ],
   "source": [
    "# save things out to the right format on disk\n",
    "# covert to the right internal format\n",
    "model = WordEmbeddings.from_text_file(weightedout)"
   ]
  },
  {
   "cell_type": "code",
   "execution_count": 216,
   "id": "27e9b795",
   "metadata": {},
   "outputs": [],
   "source": [
    "# and dump it to disk\n",
    "# model.save(\"/Users/cschmidt/otherrepos/idf-glove/glove/loginfogainoutput\")\n",
    "model.save(\"/Users/cschmidt/otherrepos/idf-glove/glove/infogainlinoutput\")"
   ]
  },
  {
   "cell_type": "code",
   "execution_count": null,
   "id": "62c72e48",
   "metadata": {},
   "outputs": [],
   "source": []
  }
 ],
 "metadata": {
  "kernelspec": {
   "display_name": "Python 3",
   "language": "python",
   "name": "python3"
  },
  "language_info": {
   "codemirror_mode": {
    "name": "ipython",
    "version": 3
   },
   "file_extension": ".py",
   "mimetype": "text/x-python",
   "name": "python",
   "nbconvert_exporter": "python",
   "pygments_lexer": "ipython3",
   "version": "3.8.8"
  }
 },
 "nbformat": 4,
 "nbformat_minor": 5
}
