{
 "cells": [
  {
   "cell_type": "code",
   "execution_count": 1,
   "id": "fa9ab176",
   "metadata": {},
   "outputs": [],
   "source": [
    "# this is copy of idfglove.ipynb\n",
    "# do it again, but build a model out of the uncased \n",
    "# file glove.42B.300d.txt\n",
    "# using the Glove vocab\n",
    "\n",
    "# standard library\n",
    "import time\n",
    "import json\n",
    "import re\n",
    "import numpy as np\n",
    "import urllib\n",
    "\n",
    "import sentence_transformers\n",
    "from sentence_transformers.models.tokenizer import WhitespaceTokenizer\n",
    "from sentence_transformers.models import WordEmbeddings\n",
    "\n",
    "from scipy.linalg import norm\n",
    "\n",
    "import matplotlib.pyplot as plt"
   ]
  },
  {
   "cell_type": "markdown",
   "id": "cc9ed578",
   "metadata": {},
   "source": [
    "# Read in data"
   ]
  },
  {
   "cell_type": "code",
   "execution_count": 2,
   "id": "c328bf55",
   "metadata": {},
   "outputs": [],
   "source": [
    "# dirname = \"/Users/cschmidt/delomore/delomore-parse-output/output/\""
   ]
  },
  {
   "cell_type": "code",
   "execution_count": 3,
   "id": "30c4e6b6",
   "metadata": {},
   "outputs": [],
   "source": [
    "# alljson = { \"collections\" : {},\n",
    "#             \"products\" : {},\n",
    "#             \"homepage\" : [],\n",
    "#             \"about\" : [],\n",
    "#             \"pages\" : [],\n",
    "#             \"blogs\" : [],\n",
    "#           }"
   ]
  },
  {
   "cell_type": "code",
   "execution_count": 4,
   "id": "d4c9ae05",
   "metadata": {},
   "outputs": [],
   "source": [
    "# queryfile = \"/Users/cschmidt/otherrepos/delomore-dataset/query-domains.tsv\"\n",
    "# querydomain = open(queryfile, \"rt\").readlines()\n",
    "# querydomain = [l.rstrip().split(\"\\t\") for l in querydomain]\n",
    "\n",
    "# # get the set of display domains\n",
    "# gooddomains = set()\n",
    "\n",
    "# for (query, displaydomain, domain) in querydomain:\n",
    "#     gooddomains.add(displaydomain)\n",
    "    \n",
    "# print(len(gooddomains))"
   ]
  },
  {
   "cell_type": "markdown",
   "id": "b89451b0",
   "metadata": {},
   "source": [
    "# Get the vocab from the Glove model directly"
   ]
  },
  {
   "cell_type": "code",
   "execution_count": 5,
   "id": "bc684251",
   "metadata": {},
   "outputs": [
    {
     "name": "stdout",
     "output_type": "stream",
     "text": [
      "1917494\n",
      "1917494\n",
      "time: 32.60562610626221\n"
     ]
    }
   ],
   "source": [
    "# this is the model that doesn't consider case of words\n",
    "# get everything up to the first space\n",
    "def getinitialword(s):\n",
    "    return s[:s.find(\" \")]\n",
    "\n",
    "glovefile = \"/Users/cschmidt/otherrepos/idf-glove/glove/glove.42B.300d.txt\"\n",
    "\n",
    "start_time = time.time()\n",
    "vocab = [getinitialword(l) for l in open(glovefile, 'rt').readlines()]\n",
    "\n",
    "vocabSet = set(vocab)\n",
    "print(len(vocab))\n",
    "\n",
    "# no dupes this time\n",
    "print(len(vocabSet))\n",
    "\n",
    "print(\"time:\", time.time() - start_time)"
   ]
  },
  {
   "cell_type": "code",
   "execution_count": 6,
   "id": "6f9829d3",
   "metadata": {},
   "outputs": [],
   "source": [
    "# filter out some of the words with a . in them,\n",
    "# including a bunch of number related cruft \n",
    "\n",
    "# lets include things like 2,890.00\n",
    "isnumber = re.compile(\"^[0-9.,:-]+$\")\n",
    "justdigits = re.compile(\"^[0-9]+$\")\n",
    "\n",
    "def isNumber(s):\n",
    "    return isnumber.search(s) != None\n",
    "\n",
    "def isInteger(s):\n",
    "    return justdigits.search(s) != None"
   ]
  },
  {
   "cell_type": "code",
   "execution_count": 7,
   "id": "7ae07860",
   "metadata": {},
   "outputs": [
    {
     "name": "stdout",
     "output_type": "stream",
     "text": [
      "bad: 4962\n",
      "integers: 65814\n",
      "numbers: 255305\n",
      "other: 74555\n"
     ]
    }
   ],
   "source": [
    "# how many cases have a period just at the end\n",
    "# and the word without it is in the vocab\n",
    "def isbad(s):\n",
    "    firstdot = s.find(\".\")\n",
    "    # no dot\n",
    "    if firstdot == -1:\n",
    "        return False\n",
    "    # first dot isn't last character\n",
    "    if firstdot != len(s)-1:\n",
    "        return False\n",
    "    # is bad if the word without it is in vocab\n",
    "    return s[:firstdot] in vocab\n",
    "\n",
    "badwords = set()\n",
    "integers = set()\n",
    "numbers = set()\n",
    "otherdot = set()\n",
    "for v in vocab:\n",
    "        \n",
    "        if isNumber(v):\n",
    "            \n",
    "            # lets keep the integers\n",
    "            if isInteger(v):\n",
    "                integers.add(v)\n",
    "            else:\n",
    "                # but lose the crufty numbers\n",
    "                numbers.add(v)\n",
    "        else:\n",
    "            \n",
    "            if isbad(v):\n",
    "                badwords.add(v)\n",
    "            else:\n",
    "                if \".\" in v:\n",
    "                    otherdot.add(v)\n",
    "print(\"bad:\",len(badwords))\n",
    "print(\"integers:\",len(integers))\n",
    "print(\"numbers:\",len(numbers))\n",
    "print(\"other:\",len(otherdot))"
   ]
  },
  {
   "cell_type": "code",
   "execution_count": 9,
   "id": "46b81ba7",
   "metadata": {
    "scrolled": true
   },
   "outputs": [
    {
     "data": {
      "text/plain": [
       "['13642',\n",
       " '14458',\n",
       " '53549',\n",
       " '54971',\n",
       " '26380',\n",
       " '63032',\n",
       " '6670',\n",
       " '32571',\n",
       " '10338',\n",
       " '1015213']"
      ]
     },
     "execution_count": 9,
     "metadata": {},
     "output_type": "execute_result"
    }
   ],
   "source": [
    "list(integers)[:10]"
   ]
  },
  {
   "cell_type": "code",
   "execution_count": 10,
   "id": "320dba24",
   "metadata": {
    "scrolled": true
   },
   "outputs": [
    {
     "data": {
      "text/plain": [
       "['23:16:54',\n",
       " '00:15:33',\n",
       " ':18.8',\n",
       " '06:28:31',\n",
       " '17:54:58',\n",
       " '19,052',\n",
       " '106-07',\n",
       " '46-47',\n",
       " '7.36',\n",
       " '19:45:17']"
      ]
     },
     "execution_count": 10,
     "metadata": {},
     "output_type": "execute_result"
    }
   ],
   "source": [
    "list(numbers)[:10]"
   ]
  },
  {
   "cell_type": "code",
   "execution_count": 11,
   "id": "c9e9d254",
   "metadata": {
    "scrolled": true
   },
   "outputs": [
    {
     "data": {
      "text/plain": [
       "['infoplist.strings',\n",
       " 'j.w.m.',\n",
       " 'weeks.â',\n",
       " 'yahoo.it',\n",
       " 'accounts.i',\n",
       " 'freedentalguide.com',\n",
       " 'xxx.xxx.xxx.xxx',\n",
       " 'lww4.htm',\n",
       " 'moron.nl',\n",
       " 'basement.org']"
      ]
     },
     "execution_count": 11,
     "metadata": {},
     "output_type": "execute_result"
    }
   ],
   "source": [
    "# keep these\n",
    "list(otherdot)[:10]"
   ]
  },
  {
   "cell_type": "code",
   "execution_count": 12,
   "id": "f11d140b",
   "metadata": {},
   "outputs": [
    {
     "name": "stdout",
     "output_type": "stream",
     "text": [
      "260267\n"
     ]
    }
   ],
   "source": [
    "toskip = badwords | numbers\n",
    "print(len(toskip))"
   ]
  },
  {
   "cell_type": "code",
   "execution_count": 13,
   "id": "10a5f764",
   "metadata": {
    "scrolled": true
   },
   "outputs": [
    {
     "name": "stdout",
     "output_type": "stream",
     "text": [
      "True\n",
      "True\n",
      "True\n"
     ]
    }
   ],
   "source": [
    "print(\"piece.\" in toskip)\n",
    "print(\"quality.\" in toskip)\n",
    "print(\"interior.\" in toskip) "
   ]
  },
  {
   "cell_type": "code",
   "execution_count": 15,
   "id": "183fb675",
   "metadata": {},
   "outputs": [
    {
     "name": "stdout",
     "output_type": "stream",
     "text": [
      "time: 1657227 260267 10.859287023544312\n"
     ]
    }
   ],
   "source": [
    "glovefilefiltered = \"/Users/cschmidt/otherrepos/idf-glove/glove/glove.42B.300d.filtered.txt\"\n",
    "\n",
    "# filter out the vectors for the words in toskip\n",
    "kept = 0\n",
    "filtered = 0\n",
    "\n",
    "start_time = time.time()\n",
    "with open(glovefilefiltered, \"wt\") as out:\n",
    "    for l in open(glovefile, 'rt'):\n",
    "        v = getinitialword(l)\n",
    "        if v not in toskip:\n",
    "            kept += 1 \n",
    "            out.write(l)\n",
    "        else:\n",
    "            filtered += 1\n",
    "            \n",
    "print(\"time:\", kept, filtered, time.time() - start_time)"
   ]
  },
  {
   "cell_type": "code",
   "execution_count": 16,
   "id": "64ee89ba",
   "metadata": {},
   "outputs": [
    {
     "name": "stderr",
     "output_type": "stream",
     "text": [
      "Load Word Embeddings: 1657227Embeddings [02:21, 11677.17Embeddings/s]\n"
     ]
    }
   ],
   "source": [
    "# Load in the filtered text file, and make a tokenizer\n",
    "# covert to the right internal format\n",
    "# these embeddings are all lower case, so \n",
    "# have the tokenizer convert to lower case\n",
    "model = WordEmbeddings.from_text_file(glovefilefiltered,tokenizer=WhitespaceTokenizer(do_lower_case=True))"
   ]
  },
  {
   "cell_type": "code",
   "execution_count": 17,
   "id": "b6fb4ada",
   "metadata": {},
   "outputs": [],
   "source": [
    "# and dump it to disk\n",
    "savedmodel = \"/Users/cschmidt/otherrepos/idf-glove/glove/weightedoutput42\"\n",
    "model.save(savedmodel)"
   ]
  },
  {
   "cell_type": "code",
   "execution_count": 18,
   "id": "d007df30",
   "metadata": {},
   "outputs": [
    {
     "name": "stdout",
     "output_type": "stream",
     "text": [
      "1657227\n",
      "1657227\n",
      "time: 18.87205195426941\n"
     ]
    }
   ],
   "source": [
    "# redo vocab with filtering\n",
    "start_time = time.time()\n",
    "vocab = [getinitialword(l) for l in open(glovefilefiltered, 'rt').readlines()]\n",
    "\n",
    "vocabSet = set(vocab)\n",
    "print(len(vocab))\n",
    "print(len(vocabSet))\n",
    "\n",
    "print(\"time:\", vocab, vocabSet, time.time() - start_time)"
   ]
  },
  {
   "cell_type": "markdown",
   "id": "3397fb0e",
   "metadata": {},
   "source": [
    "# Get our Glove vocabulary"
   ]
  },
  {
   "cell_type": "code",
   "execution_count": 19,
   "id": "2c29f33d",
   "metadata": {},
   "outputs": [],
   "source": [
    "# augment this with our padding token that is in the tokenizer\n",
    "tokenvocab = [\"PADDING_TOKEN\"] + vocab"
   ]
  },
  {
   "cell_type": "code",
   "execution_count": 20,
   "id": "50d0679d",
   "metadata": {},
   "outputs": [
    {
     "name": "stdout",
     "output_type": "stream",
     "text": [
      "1657228\n"
     ]
    }
   ],
   "source": [
    "# given the index in vocab, give us the words back\n",
    "idx2word = { idx: w for (idx,w) in enumerate(tokenvocab) }\n",
    "print(len(idx2word))"
   ]
  },
  {
   "cell_type": "code",
   "execution_count": 21,
   "id": "4b372e57",
   "metadata": {},
   "outputs": [],
   "source": [
    "# can load it in directly\n",
    "# note that it ignores stopwords\n",
    "tokenizer = WhitespaceTokenizer().load(savedmodel)"
   ]
  },
  {
   "cell_type": "code",
   "execution_count": 22,
   "id": "d5ee9813",
   "metadata": {},
   "outputs": [],
   "source": [
    "# tokenize with our WhitespaceTokenizer, \n",
    "# but then return the actual words in a list\n",
    "def tokenizeWords(s):\n",
    "    return [idx2word[idx] for idx in tokenizer.tokenize(s)]"
   ]
  },
  {
   "cell_type": "code",
   "execution_count": 23,
   "id": "163bb84b",
   "metadata": {},
   "outputs": [
    {
     "name": "stdout",
     "output_type": "stream",
     "text": [
      "['cow', 'white']\n",
      "['cow', 'white']\n",
      "['cow', 'white']\n"
     ]
    }
   ],
   "source": [
    "words = tokenizeWords(\"cow white\")\n",
    "print(words)\n",
    "# stop words dissappear\n",
    "words = tokenizeWords(\"the cow is white\")\n",
    "print(words)\n",
    "# converts to lower case, drops punctuation\n",
    "words = tokenizeWords(\"the Cow is white!\")\n",
    "print(words)"
   ]
  },
  {
   "cell_type": "code",
   "execution_count": 27,
   "id": "5e29b888",
   "metadata": {},
   "outputs": [
    {
     "data": {
      "text/plain": [
       "['50', 'beanie', 'package', 'a.m.']"
      ]
     },
     "execution_count": 27,
     "metadata": {},
     "output_type": "execute_result"
    }
   ],
   "source": [
    "# you do end up with some . characters in the vocab\n",
    "# now have filtered some of these out\n",
    "tokenizeWords(\"50 beanie package. a.m. 7.36\")"
   ]
  },
  {
   "cell_type": "code",
   "execution_count": 28,
   "id": "5a919478",
   "metadata": {},
   "outputs": [
    {
     "data": {
      "text/plain": [
       "[]"
      ]
     },
     "execution_count": 28,
     "metadata": {},
     "output_type": "execute_result"
    }
   ],
   "source": [
    "tokenizeWords(\"8.5\")"
   ]
  },
  {
   "cell_type": "code",
   "execution_count": 26,
   "id": "5b5d1df7",
   "metadata": {},
   "outputs": [],
   "source": [
    "# compute our idf term, \n",
    "# for just those words in the vocabSet\n",
    "# add 1 so still works if no values ??\n",
    "# idf = { w : np.log(N/c) for (w,c) in wikidf.items() if w in vocabSet}\n",
    "# len(idf)"
   ]
  },
  {
   "cell_type": "code",
   "execution_count": 29,
   "id": "93430041",
   "metadata": {
    "scrolled": false
   },
   "outputs": [
    {
     "name": "stdout",
     "output_type": "stream",
     "text": [
      "0 0.0027091503143310547\n",
      "100 20.430618047714233\n",
      "200 41.83625411987305\n",
      "300 60.65954113006592\n",
      "400 82.61731910705566\n",
      "500 104.86676716804504\n",
      "600 127.89059615135193\n",
      "700 148.06602907180786\n",
      "800 170.23068809509277\n",
      "900 190.79873204231262\n",
      "1000 209.79683804512024\n",
      "1100 228.79774403572083\n",
      "1200 247.48914408683777\n",
      "1300 266.4047701358795\n",
      "1400 286.63281416893005\n",
      "1500 308.7200610637665\n",
      "1600 328.9879729747772\n",
      "1700 349.9434971809387\n",
      "1800 370.57430624961853\n",
      "1900 390.8628239631653\n",
      "2000 411.28292417526245\n",
      "2100 433.6215569972992\n",
      "2200 453.4350321292877\n",
      "2300 473.76387906074524\n",
      "2400 493.9031460285187\n",
      "2500 514.5479071140289\n",
      "2600 535.0809600353241\n",
      "2700 555.1044640541077\n",
      "2800 575.500785112381\n",
      "2900 597.0536060333252\n",
      "3000 617.7861762046814\n",
      "3100 637.6052160263062\n",
      "3200 657.8709189891815\n",
      "3300 679.0987811088562\n",
      "3400 700.4131379127502\n",
      "3500 721.0105049610138\n",
      "3600 740.8786859512329\n",
      "3700 761.38858294487\n",
      "3800 781.3772020339966\n",
      "3900 800.529176235199\n",
      "4000 821.0987939834595\n",
      "4100 842.0032362937927\n",
      "4200 863.7337129116058\n",
      "4300 886.2650530338287\n",
      "4400 908.4794719219208\n",
      "4500 929.9652240276337\n",
      "4600 951.7019031047821\n",
      "4700 971.329460144043\n",
      "4800 991.8201742172241\n",
      "4900 1011.5445189476013\n",
      "5000 1033.3254952430725\n",
      "5100 1054.1230890750885\n",
      "5200 1075.322190284729\n",
      "5300 1096.3718411922455\n",
      "5400 1117.313395023346\n",
      "5500 1139.2607641220093\n",
      "5600 1159.066395998001\n",
      "5700 1178.7459700107574\n",
      "5800 1198.1974761486053\n",
      "5900 1218.3546750545502\n",
      "6000 1239.4863801002502\n",
      "6100 1260.7320640087128\n",
      "6200 1281.903192281723\n",
      "6300 1302.3204061985016\n",
      "6400 1322.464863061905\n",
      "6500 1342.7290840148926\n",
      "6600 1362.751522064209\n",
      "6700 1382.3463649749756\n",
      "6800 1401.9222931861877\n",
      "6900 1421.3362300395966\n",
      "7000 1440.5417811870575\n",
      "7100 1460.033413887024\n",
      "7200 1480.0527110099792\n",
      "7300 1501.1172070503235\n",
      "7400 1521.5492990016937\n",
      "7500 1541.9739320278168\n",
      "7600 1564.4364681243896\n",
      "7700 1585.3584830760956\n",
      "7800 1606.4663071632385\n",
      "7900 1626.557415008545\n",
      "8000 1647.7438552379608\n",
      "8100 1669.6485409736633\n",
      "8200 1691.612058877945\n",
      "8300 1712.479387998581\n",
      "8400 1733.8989698886871\n",
      "8500 1756.1855461597443\n",
      "8600 1777.1033930778503\n",
      "8700 1798.1769170761108\n",
      "8800 1819.9666740894318\n",
      "8900 1841.1239702701569\n",
      "9000 1861.6019060611725\n",
      "9100 1882.7510170936584\n",
      "9200 1903.6023881435394\n",
      "9300 1925.2667829990387\n",
      "9400 1945.015300989151\n",
      "9500 1964.8876831531525\n",
      "9600 1985.453754901886\n",
      "9700 2007.0329461097717\n",
      "9800 2028.4165441989899\n",
      "9900 2049.337933063507\n",
      "10000 2069.6279940605164\n",
      "10100 2089.911588191986\n",
      "10200 2109.585666179657\n",
      "10300 2129.4559729099274\n",
      "10400 2148.9888899326324\n",
      "10500 2169.9096562862396\n",
      "10600 2189.532628059387\n",
      "10700 2210.085412979126\n",
      "10800 2232.712282896042\n",
      "10900 2253.418069124222\n",
      "11000 2274.3600430488586\n",
      "11100 2294.5439801216125\n",
      "11200 2315.3160111904144\n",
      "11300 2334.939066171646\n",
      "11400 2354.8764550685883\n",
      "11500 2374.644762992859\n",
      "11600 2394.432484149933\n",
      "11700 2414.222761154175\n",
      "11800 2435.9574811458588\n",
      "11900 2456.6719381809235\n",
      "12000 2476.1823902130127\n",
      "12100 2497.476716041565\n",
      "12200 2517.7217869758606\n",
      "12300 2538.7418711185455\n",
      "12400 2559.916990041733\n",
      "12500 2582.8367199897766\n",
      "12600 2604.0665040016174\n",
      "12700 2624.7254831790924\n",
      "12800 2644.625956296921\n",
      "12900 2665.5803542137146\n",
      "13000 2686.804526090622\n",
      "13100 2709.3760499954224\n",
      "13200 2729.9142920970917\n",
      "13300 2750.38116312027\n",
      "13400 2770.5090901851654\n",
      "13500 2790.949767112732\n",
      "13600 2811.3278391361237\n",
      "13700 2831.078101158142\n",
      "13800 2852.465234041214\n",
      "13900 2873.539630174637\n",
      "14000 2896.4186329841614\n",
      "14100 2917.596045255661\n",
      "14200 2937.8618021011353\n"
     ]
    }
   ],
   "source": [
    "# save clean to a file so we can compute information gain\n",
    "\n",
    "# note that collections just have an 'og:title' and 'product-handles'\n",
    "\n",
    "# output a single line, with space separated unique words\n",
    "# skip if no words (that are in the vocab)\n",
    "def getTokenizedText(d, out, row):\n",
    "    \n",
    "    text = \"\"\n",
    "    \n",
    "    for field in [\"og:title\", \"og:site_name\", \"og:description\"]:\n",
    "        if field in d:\n",
    "\n",
    "            # is occasionally a list, just use first then \n",
    "            if type(d[field]) == list:\n",
    "                text += d[field][0] + \" \"\n",
    "            else:\n",
    "                text += d[field] + \" \"\n",
    "    \n",
    "    # eliminate duplicates, ends up in arbitrary order\n",
    "    words = list(set(tokenizeWords(text)))\n",
    "    \n",
    "    # we want to generate pairs, so ignore ones with a single word\n",
    "    if len(words) > 1:\n",
    "        # space separate the words\n",
    "        words = \" \".join(words)\n",
    "        # tab between row and words\n",
    "        # out.write(str(row) + \"\\t\" + text + \"\\n\")\n",
    "        out.write(str(row) + \"\\t\" + words + \"\\n\")\n",
    "        # success so advance to next row\n",
    "        return row + 1\n",
    "    else:\n",
    "        return row\n",
    "    \n",
    "start_time = time.time()\n",
    "\n",
    "# directory for input data\n",
    "dirname = \"/Users/cschmidt/delomore/delomore-parse-output/output/\"\n",
    "row = 0\n",
    "\n",
    "# just save in this repo\n",
    "out = open(\"cleanwords.filtered.tsv\", \"wt\")\n",
    "\n",
    "# Use each page as a document here\n",
    "# 00000 to 14222\n",
    "for chunk in range(14223):\n",
    "    \n",
    "    if chunk % 100 == 0:\n",
    "        print(chunk, time.time() - start_time)\n",
    "    \n",
    "    chunkname = str(chunk).rjust(5, '0') + \".tsv\"\n",
    "\n",
    "    filename = dirname + chunkname\n",
    "    data = [l.rstrip().split(\"\\t\") for l in open(filename, 'rt').readlines()]    \n",
    "\n",
    "    for domain,displaydomain,url,alljson in data:\n",
    "\n",
    "        # convert to json\n",
    "        j = json.loads(alljson)\n",
    "\n",
    "        # are 4 possible kinds of pages to use\n",
    "        if \"about\" in j:\n",
    "            # is a possibly empty list\n",
    "            for d in j[\"about\"]:\n",
    "                row = getTokenizedText(d, out, row)\n",
    "\n",
    "        # note that collections just have an 'og:title' and 'product-handles'\n",
    "        if \"collections\" in j:\n",
    "            # is a dict with handles\n",
    "            for handle, d in j[\"collections\"].items():\n",
    "                row = getTokenizedText(d, out, row)\n",
    "\n",
    "        # has handles\n",
    "        if \"products\" in j:\n",
    "            # is a dict with handles\n",
    "            for handle, d in j[\"products\"].items():\n",
    "                row = getTokenizedText(d, out, row)\n",
    "\n",
    "        # has handles\n",
    "        if \"homepage\" in j:\n",
    "            # is a possibly empty list\n",
    "            for d in j[\"homepage\"]:\n",
    "                row = getTokenizedText(d, out, row)\n",
    "\n",
    "out.close()"
   ]
  },
  {
   "cell_type": "code",
   "execution_count": null,
   "id": "cc4d0084",
   "metadata": {},
   "outputs": [],
   "source": [
    "# stopped here"
   ]
  },
  {
   "cell_type": "code",
   "execution_count": null,
   "id": "f3768464",
   "metadata": {},
   "outputs": [],
   "source": [
    "# wc cleanwords.tsv\n",
    "# 62,587,173 1,658,580,366 11711434739 cleanwords.tsv"
   ]
  },
  {
   "cell_type": "code",
   "execution_count": 182,
   "id": "b6c36bef",
   "metadata": {
    "scrolled": true
   },
   "outputs": [
    {
     "name": "stdout",
     "output_type": "stream",
     "text": [
      "64886566\n",
      "1305349\n"
     ]
    }
   ],
   "source": [
    "print(doccnt)\n",
    "print(len(wordcnt))"
   ]
  },
  {
   "cell_type": "code",
   "execution_count": 186,
   "id": "d9dec8f2",
   "metadata": {},
   "outputs": [
    {
     "name": "stdout",
     "output_type": "stream",
     "text": [
      "1116700\n",
      "1308084\n",
      "\n",
      "idf2: 1116700\n",
      "after idf2: 1308084\n"
     ]
    }
   ],
   "source": [
    "# ok, so how many of thoese words are in vocab\n",
    "# oh, the tokenizer drops all those words not in in vocab\n",
    "\n",
    "# only keep those in at least 2 documents\n",
    "# use our local doccnt\n",
    "idf2 = { w : np.log(doccnt/c) for (w,c) in wordcnt.items() if c >= 2}\n",
    "\n",
    "mywordset = set(wordcnt2)\n",
    "print(len(mywordset))\n",
    "# we can also use the df from idf that are also in vocab\n",
    "either = mywordset | (set(idf.keys()) & vocabSet)\n",
    "print(len(either))\n",
    "print()\n",
    "\n",
    "print(\"idf2:\", len(idf2))\n",
    "# now supplement with any values of idf that aren't already in idf2\n",
    "# however, we want to use the existing value if it is there\n",
    "for (w,v) in idf.items():\n",
    "    if w not in idf2:\n",
    "        idf2[w] = v\n",
    "print(\"after idf2:\", len(idf2))\n",
    "\n",
    "assert len(idf2) == len(either)"
   ]
  },
  {
   "cell_type": "code",
   "execution_count": 188,
   "id": "6a3e8187",
   "metadata": {},
   "outputs": [
    {
     "data": {
      "text/plain": [
       "False"
      ]
     },
     "execution_count": 188,
     "metadata": {},
     "output_type": "execute_result"
    }
   ],
   "source": [
    "# the duplicate row donsn't have a weight, so won't end up in file\n",
    "duplicate = \"����������������������������������������������������������������������������������������������������������������������������������������������������������������������������������������������������������������������������������������������������������������������������������������������������������������������������������������������\"\n",
    "duplicate in idf2"
   ]
  },
  {
   "cell_type": "code",
   "execution_count": 212,
   "id": "ce2c4707",
   "metadata": {},
   "outputs": [],
   "source": [
    "# lets output our idf2 values while we're at it\n",
    "sortedidf2 = sorted([(v,w) for (w,v) in idf2.items()], reverse=True)"
   ]
  },
  {
   "cell_type": "code",
   "execution_count": 214,
   "id": "63faee92",
   "metadata": {},
   "outputs": [],
   "source": [
    "# and save to the disk\n",
    "with open(\"/Users/cschmidt/otherrepos/idf-glove/glove/idf2.tsv\", \"wt\") as out:\n",
    "    for v,w in sortedidf2:\n",
    "        out.write(str(v) + \"\\t\" + w + \"\\n\")"
   ]
  },
  {
   "cell_type": "code",
   "execution_count": 22,
   "id": "cf36b7ba",
   "metadata": {},
   "outputs": [],
   "source": [
    "# load it back in, so we can try clipping values\n",
    "sortedidf2 = []\n",
    "justscores = []\n",
    "with open(\"/Users/cschmidt/otherrepos/idf-glove/glove/idf2.tsv\", \"rt\") as f:\n",
    "    for line in f:\n",
    "        idfval, word = line.rstrip().split(\"\\t\")\n",
    "        sortedidf2.append((float(idfval), word))\n",
    "        justscores.append(float(idfval))\n",
    "idf2 = { w : s for (s,w) in sortedidf2}"
   ]
  },
  {
   "cell_type": "code",
   "execution_count": 4,
   "id": "3f5730b9",
   "metadata": {
    "scrolled": false
   },
   "outputs": [
    {
     "name": "stdout",
     "output_type": "stream",
     "text": [
      "13081\n"
     ]
    }
   ],
   "source": [
    "sample = [s for i,s in enumerate(justscores) if i%100 == 0]\n",
    "print(len(sample))"
   ]
  },
  {
   "cell_type": "code",
   "execution_count": 28,
   "id": "ebbb3923",
   "metadata": {},
   "outputs": [
    {
     "data": {
      "text/plain": [
       "108084"
      ]
     },
     "execution_count": 28,
     "metadata": {},
     "output_type": "execute_result"
    }
   ],
   "source": [
    "len(idf2) - 1200000"
   ]
  },
  {
   "cell_type": "code",
   "execution_count": 14,
   "id": "f0abd7ea",
   "metadata": {
    "scrolled": false
   },
   "outputs": [
    {
     "name": "stdout",
     "output_type": "stream",
     "text": [
      "0 (17.29500398431037, '￡')\n",
      "20000 (17.29500398431037, 'kearns')\n",
      "40000 (17.29500398431037, 'Venao')\n",
      "60000 (17.29500398431037, 'Morganthaler')\n",
      "80000 (17.29500398431037, 'Durdy')\n",
      "100000 (17.29500398431037, '4L4')\n",
      "120000 (16.889538876202206, 'rerip')\n",
      "140000 (16.889538876202206, 'Woollam')\n",
      "160000 (16.889538876202206, 'Laelaps')\n",
      "180000 (16.889538876202206, 'Adanson')\n",
      "200000 (16.601856803750422, 'road.It')\n",
      "220000 (16.601856803750422, 'Sixty-second')\n",
      "240000 (16.601856803750422, 'CuteCircuit')\n",
      "260000 (16.378713252436214, 'table.If')\n",
      "280000 (16.378713252436214, 'Rainbowbrite')\n",
      "300000 (16.378713252436214, '76.35')\n",
      "320000 (16.19639169564226, 'bandmember')\n",
      "340000 (16.19639169564226, 'Bokeem')\n",
      "360000 (16.042241015815, 'beta-blockers')\n",
      "380000 (16.042241015815, '68815')\n",
      "400000 (15.908709623190479, 'Pelléas')\n",
      "420000 (15.790926587534095, 'mid-1968')\n",
      "440000 (15.790926587534095, '30297')\n",
      "460000 (15.685566071876268, 'Cober')\n",
      "480000 (15.590255892071944, 'Gizmoz')\n",
      "500000 (15.503244515082315, 'Folkes')\n",
      "520000 (15.423201807408779, 'Avoplex')\n",
      "540000 (15.280100963768104, 're-claim')\n",
      "560000 (15.215562442630533, 'Newair')\n",
      "580000 (15.09777940697415, 'nagar')\n",
      "600000 (15.043712185703875, '16GB/32GB/64GB')\n",
      "620000 (14.897108711511999, 'sudio')\n",
      "640000 (14.81009733452237, 'Salou')\n",
      "660000 (14.792041461292705, '9:111')\n",
      "680000 (14.730054626848833, 'Norways')\n",
      "700000 (14.62085533488384, 'Llagas')\n",
      "720000 (14.491643603403835, 'speedbag')\n",
      "740000 (14.386576353184541, 'web-address')\n",
      "760000 (14.37723325222609, 'Cathrineholm')\n",
      "780000 (14.250481546586947, 'Hookway')\n",
      "800000 (14.116950153962424, 'XR1200')\n",
      "820000 (14.076128159442169, \"d'Auge\")\n",
      "840000 (13.945099897035764, 'Wall-to-Wall')\n",
      "860000 (13.87575072941855, '35:18')\n",
      "880000 (13.754044660273054, 'Caramelle')\n",
      "900000 (13.684086071666146, '5295')\n",
      "920000 (13.539278492797337, 'previously-created')\n",
      "940000 (13.434274273269773, 'silver/silver')\n",
      "960000 (13.343760265728942, '202A')\n",
      "980000 (13.225977230072559, 'Platycerium')\n",
      "1000000 (13.097802036648561, 'Nailah')\n",
      "1020000 (12.997718578091579, 'Peepal')\n",
      "1040000 (12.846131312237391, 'riverboarding')\n",
      "1060000 (12.712599919612869, 'hcca')\n",
      "1080000 (12.554429161316074, 'nail-biting')\n",
      "1100000 (12.394146188494334, 'backrower')\n",
      "1120000 (12.210498841647658, 'Multi-Cat')\n",
      "1140000 (12.009265399969193, 'LeChat')\n",
      "1160000 (11.781575238145386, 'WaterField')\n",
      "1180000 (11.533944923271223, 'aane')\n",
      "1200000 (11.24173903629694, 'Evangelism')\n",
      "1220000 (10.900221163182078, 'upenn')\n",
      "1240000 (10.472806593689878, 'Guts')\n",
      "1260000 (9.924507010837122, 'peay')\n",
      "1280000 (9.13248773417019, 'pleating')\n",
      "1300000 (7.445550320266727, 'height.')\n"
     ]
    }
   ],
   "source": [
    "# see some values \n",
    "for i in range(len(sortedidf2)):\n",
    "    if i % 20000 == 0:\n",
    "        print(i, sortedidf2[i])"
   ]
  },
  {
   "cell_type": "code",
   "execution_count": 6,
   "id": "bc2f2b94",
   "metadata": {
    "scrolled": false
   },
   "outputs": [
    {
     "data": {
      "text/plain": [
       "17.29500398431037"
      ]
     },
     "execution_count": 6,
     "metadata": {},
     "output_type": "execute_result"
    }
   ],
   "source": [
    "# want to clip the very uncommon ones to the same value, so they don't \n",
    "# dominate the mid range terms\n",
    "max(sample)"
   ]
  },
  {
   "cell_type": "code",
   "execution_count": 23,
   "id": "ba3b603b",
   "metadata": {},
   "outputs": [
    {
     "name": "stdout",
     "output_type": "stream",
     "text": [
      "11.24173903629694\n"
     ]
    },
    {
     "data": {
      "text/plain": [
       "<matplotlib.collections.LineCollection at 0x7fa906c62520>"
      ]
     },
     "execution_count": 23,
     "metadata": {},
     "output_type": "execute_result"
    },
    {
     "data": {
      "image/png": "[encoded data removed]",
      "text/plain": [
       "<Figure size 720x720 with 1 Axes>"
      ]
     },
     "metadata": {
      "needs_background": "light"
     },
     "output_type": "display_data"
    }
   ],
   "source": [
    "plt.rcParams['figure.figsize'] = [10, 10]\n",
    "plt.plot(sample)\n",
    "maxval = justscores[1200000]\n",
    "print(maxval)\n",
    "plt.vlines(x=12000,ymin=2, ymax=maxval, color=\"red\")\n",
    "plt.hlines(y=maxval,xmin=0, xmax=12000, color=\"red\")"
   ]
  },
  {
   "cell_type": "code",
   "execution_count": 24,
   "id": "1c2ed0d7",
   "metadata": {},
   "outputs": [],
   "source": [
    "# might as well scale it so the max is 1.0 while we're at it\n",
    "sortedidf3 = [(min(idfval,maxval)/maxval, w) for idfval,w in sortedidf2]\n",
    "idf3 = { w : s for (s,w) in sortedidf3}\n",
    "justscores = [s for (s,w) in sortedidf3]"
   ]
  },
  {
   "cell_type": "code",
   "execution_count": 25,
   "id": "159f5bc0",
   "metadata": {},
   "outputs": [
    {
     "data": {
      "text/plain": [
       "[<matplotlib.lines.Line2D at 0x7fa93f025a30>]"
      ]
     },
     "execution_count": 25,
     "metadata": {},
     "output_type": "execute_result"
    },
    {
     "data": {
      "image/png": "[encoded data removed]",
      "text/plain": [
       "<Figure size 720x720 with 1 Axes>"
      ]
     },
     "metadata": {
      "needs_background": "light"
     },
     "output_type": "display_data"
    }
   ],
   "source": [
    "# this makes it clear it is about downweighting common words\n",
    "# not making the more obscure stuff super important\n",
    "plt.rcParams['figure.figsize'] = [10, 10]\n",
    "plt.plot(justscores)\n",
    "# maxval = justscores[1000000]\n",
    "# print(maxval)\n",
    "# plt.vlines(x=10000,ymin=2, ymax=maxval, color=\"red\")\n",
    "# plt.hlines(y=maxval,xmin=0, xmax=10000, color=\"red\")"
   ]
  },
  {
   "cell_type": "code",
   "execution_count": 51,
   "id": "082b92fd",
   "metadata": {},
   "outputs": [
    {
     "name": "stdout",
     "output_type": "stream",
     "text": [
      "time: 1308084 471.6110429763794\n"
     ]
    }
   ],
   "source": [
    "# now update our vectors file, \n",
    "# only keeping those rows in idf3,\n",
    "# and multiplying each row by the idf value\n",
    "\n",
    "glovefile =   \"/Users/cschmidt/otherrepos/idf-glove/glove/glove.840B.300d.txt\"\n",
    "weightedout = \"/Users/cschmidt/otherrepos/idf-glove/glove/glove.840B.300d.weighted.txt\"\n",
    "\n",
    "# get everything up to the first space\n",
    "def getinitialword(s):\n",
    "    return s[:s.find(\" \")]\n",
    "\n",
    "out = open(weightedout, \"wt\")\n",
    "\n",
    "written = 0\n",
    "\n",
    "start_time = time.time()\n",
    "for line in open(glovefile, 'rt'):\n",
    "    # this will be a bit faster, since most won't be in idf3\n",
    "    gw = getinitialword(line)\n",
    "    # only keep if have a valid weight\n",
    "    if gw in idf3:\n",
    "        vec = line.rstrip().split(\" \")\n",
    "        assert vec[0] == gw\n",
    "        # drop the word\n",
    "        vec = vec[1:]\n",
    "        vec = np.array([float(x) for x in vec])\n",
    "        # need to normalize\n",
    "        vec /= norm(vec)\n",
    "        # and multiply by idf3\n",
    "        vec *= idf3[gw]\n",
    "        out.write(gw + \" \" + \" \".join([str(a) for a in vec]) + \"\\n\")\n",
    "        written += 1\n",
    "        \n",
    "print(\"time:\", written, time.time() - start_time)\n",
    "out.close()"
   ]
  },
  {
   "cell_type": "code",
   "execution_count": 52,
   "id": "14899410",
   "metadata": {},
   "outputs": [
    {
     "name": "stderr",
     "output_type": "stream",
     "text": [
      "Load Word Embeddings: 1308084Embeddings [03:17, 6622.58Embeddings/s]\n"
     ]
    }
   ],
   "source": [
    "# covert to the right internal format\n",
    "model = WordEmbeddings.from_text_file(weightedout)"
   ]
  },
  {
   "cell_type": "code",
   "execution_count": 53,
   "id": "27e9b795",
   "metadata": {},
   "outputs": [],
   "source": [
    "# and dump it to disk\n",
    "model.save(\"/Users/cschmidt/otherrepos/idf-glove/glove/weightedoutput\")"
   ]
  },
  {
   "cell_type": "code",
   "execution_count": 54,
   "id": "918b36c3",
   "metadata": {},
   "outputs": [
    {
     "name": "stdout",
     "output_type": "stream",
     "text": [
      "0.6015102961325726\n",
      "0.4681569843589681\n"
     ]
    }
   ],
   "source": [
    "print(idf3[\"weighted\"])\n",
    "print(idf3[\"blanket\"])"
   ]
  },
  {
   "cell_type": "code",
   "execution_count": 57,
   "id": "2f38aa67",
   "metadata": {
    "scrolled": false
   },
   "outputs": [
    {
     "name": "stdout",
     "output_type": "stream",
     "text": [
      "Bearaby 0.0\n",
      "weighted 0.6015102961325726\n",
      "blanket 0.4681569843589681\n",
      "made 0.142383046559281\n",
      "without 0.21456753897446318\n",
      "artificial 0.49430935445294394\n",
      "fillers 0.6047332018048627\n",
      "or 0.10244944076170853\n",
      "synthetic 0.4641162106970325\n",
      "fabrics 0.4135655872428576\n",
      "Naturally 0.5281091853425119\n",
      "heavy 0.39697307167562434\n",
      "cooling 0.5129785034263893\n",
      "and 0.02363397877630451\n",
      "hand-knit 0.7848104235398403\n",
      "with 0.05770230716883812\n",
      "organic 0.3493871347665926\n",
      "materials 0.3780104508580741\n",
      "Buy 0.30636770966974847\n",
      "weighted 0.6015102961325726\n",
      "blanket 0.4681569843589681\n",
      "now 0.16811524275366985\n"
     ]
    }
   ],
   "source": [
    "# just look at an example\n",
    "test = [\"Bearaby\",\n",
    "\"weighted\",\n",
    "\"blanket\",\n",
    "\"made\",\n",
    "\"without\",\n",
    "\"artificial\",\n",
    "\"fillers\",\n",
    "\"or\",\n",
    "\"synthetic\",\n",
    "\"fabrics\",\n",
    "\"Naturally\",\n",
    "\"heavy\",\n",
    "\"cooling\",\n",
    "\"and\",\n",
    "\"hand-knit\",\n",
    "\"with\",\n",
    "\"organic\",\n",
    "\"materials\",\n",
    "\"Buy\",\n",
    "\"weighted\",\n",
    "\"blanket\",\n",
    "\"now\"]\n",
    "        \n",
    "for w in test:\n",
    "    print(w, idf3.get(w,0.0))"
   ]
  },
  {
   "cell_type": "code",
   "execution_count": 15,
   "id": "eaa63101",
   "metadata": {},
   "outputs": [
    {
     "data": {
      "text/plain": [
       "(17.29500398431037, '￡')"
      ]
     },
     "execution_count": 15,
     "metadata": {},
     "output_type": "execute_result"
    }
   ],
   "source": [
    "sortedidf2[0]"
   ]
  },
  {
   "cell_type": "code",
   "execution_count": 16,
   "id": "4ec1e48d",
   "metadata": {},
   "outputs": [],
   "source": [
    "ranks = { w : i for i,(s,w) in enumerate(sortedidf2) }"
   ]
  },
  {
   "cell_type": "code",
   "execution_count": 20,
   "id": "e71a9352",
   "metadata": {},
   "outputs": [
    {
     "data": {
      "text/plain": [
       "1306981"
      ]
     },
     "execution_count": 20,
     "metadata": {},
     "output_type": "execute_result"
    }
   ],
   "source": [
    "ranks[\"tea\"]"
   ]
  },
  {
   "cell_type": "code",
   "execution_count": 21,
   "id": "2c5d8a20",
   "metadata": {},
   "outputs": [
    {
     "data": {
      "text/plain": [
       "1296774"
      ]
     },
     "execution_count": 21,
     "metadata": {},
     "output_type": "execute_result"
    }
   ],
   "source": [
    "ranks[\"weighted\"]"
   ]
  },
  {
   "cell_type": "code",
   "execution_count": null,
   "id": "4a7b14bb",
   "metadata": {},
   "outputs": [],
   "source": [
    "ranks["
   ]
  },
  {
   "cell_type": "code",
   "execution_count": 34,
   "id": "0aff08dd",
   "metadata": {},
   "outputs": [
    {
     "name": "stdout",
     "output_type": "stream",
     "text": [
      "british 0.9025529949704204 1252632\n",
      "facemask 0.8220503798800498 1277842\n",
      "american 0.7842508809486689 1285643\n",
      "aprons 0.7793062096568755 1286496\n",
      "teen 0.7669940266742116 1288552\n",
      "mattresses 0.7414206301590596 1292221\n",
      "knitwear 0.7373510503537153 1292771\n",
      "pajamas 0.7214808670346714 1294690\n",
      "chef 0.7184251702208918 1295038\n",
      "weighted 0.7008224222526941 1296774\n",
      "shaving 0.6938471631255047 1297428\n",
      "handbags 0.6654181276507352 1299799\n",
      "notebooks 0.663306790686344 1299939\n",
      "pottery 0.6561120062095709 1300447\n",
      "pens 0.62492953101472 1302433\n",
      "native 0.6200091570338137 1302707\n",
      "hoodies 0.6129402110037565 1303055\n",
      "blankets 0.6128984487799466 1303058\n",
      "Chicago 0.6013569453986652 1303592\n",
      "camera 0.5788778696891399 1304490\n",
      "games 0.5590384191039969 1305177\n",
      "blanket 0.5454518632223989 1305552\n",
      "chocolate 0.5054972055068161 1306458\n",
      "cloth 0.505206541349554 1306463\n",
      "board 0.4985186789315761 1306570\n",
      "shoes 0.48563605097633805 1306767\n",
      "bags 0.4807913230473065 1306845\n",
      "men 0.4774430648533472 1306896\n",
      "luxury 0.4767944576640831 1306911\n",
      "tea 0.47133089064945966 1306981\n",
      "fashion 0.4306295420850482 1307368\n",
      "XL 0.4199779336197333 1307439\n",
      "red 0.4096619735054518 1307510\n",
      "M 0.400123387077302 1307569\n",
      "metal 0.3959396131931465 1307589\n",
      "fun 0.380749747006939 1307660\n",
      "leather 0.36021790066140513 1307726\n"
     ]
    }
   ],
   "source": [
    "test = [\"Protection\",\n",
    "\"Baby\",\n",
    "\"Blanket\",\n",
    "\"Eighth\",\n",
    "\"Generation\",\n",
    "\"Native\",\n",
    "\"American\",\n",
    "\"designed\",\n",
    "\"Wool\",\n",
    "\"Baby\",\n",
    "\"Blankets\",\n",
    "\"by\",\n",
    "\"Eighth\",\n",
    "\"Generation\",\n",
    "\"Wool\",\n",
    "\"Blanket\",\n",
    "\"design\",\n",
    "\"features\",\n",
    "\"Blackfeet\",\n",
    "\"ledger\",\n",
    "\"art\",\n",
    "\"by\",\n",
    "\"Native\",\n",
    "\"American\",\n",
    "\"artist\",\n",
    "\"John\",\n",
    "\"Isaiah\",\n",
    "\"Pepion\",\n",
    "\"Native\",\n",
    "\"American\",\n",
    "\"&\",\n",
    "\"Indian\",\n",
    "\"Wool\",\n",
    "\"Blanket\",\n",
    "\"fashion\",\n",
    "\"for\",\n",
    "\"Men\",\n",
    "\"Women\",\n",
    "\"&\",\n",
    "\"Home\",\n",
    "\"Shop\",\n",
    "\"Quality\",\n",
    "\"Native\",\n",
    "\"American\",\n",
    "\"made\",\n",
    "\"Wool\",\n",
    "\"Blankets\",\n",
    "\"that\",\n",
    "\"feature\",\n",
    "\"authentic\",\n",
    "\"Native\",\n",
    "\"American\",\n",
    "\"art\"]\n",
    "\n",
    "test = [\n",
    "    \"american\",\n",
    "\"aprons\",\n",
    "\"bags\",\n",
    "\"blanket\",\n",
    "\"blankets\",\n",
    "\"board\",\n",
    "\"british\",\n",
    "\"camera\",\n",
    "\"chef\",\n",
    "\"chocolate\",\n",
    "\"cloth\",\n",
    "\"facemask\",\n",
    "\"fashion\",\n",
    "\"fun\",\n",
    "\"games\",\n",
    "\"handbags\",\n",
    "\"hoodies\",\n",
    "\"knitwear\",\n",
    "\"leather\",\n",
    "\"luxury\",\n",
    "\"mattresses\",\n",
    "\"men\",\n",
    "\"metal\",\n",
    "\"native\",\n",
    "\"notebooks\",\n",
    "\"pajamas\",\n",
    "\"pens\",\n",
    "\"pottery\",\n",
    "\"shaving\",\n",
    "\"shoes\",\n",
    "\"tea\",\n",
    "\"teen\",\n",
    "\"weighted\",\n",
    "\"red\",\n",
    "\"M\",\n",
    "\"XL\", \n",
    "\"Chicago\"\n",
    "]\n",
    "\n",
    "tosort = sorted([(idf3.get(w,0.0),w) for w in test], reverse=True)\n",
    "\n",
    "huh = []\n",
    "for s,w in tosort:\n",
    "    print(w, s, ranks.get(w, -1))\n",
    "    huh.append(ranks.get(w, -1))\n",
    "    \n",
    "huh = sorted(huh)"
   ]
  },
  {
   "cell_type": "code",
   "execution_count": 32,
   "id": "8ac74d2b",
   "metadata": {},
   "outputs": [
    {
     "data": {
      "text/plain": [
       "[1252632,\n",
       " 1277842,\n",
       " 1285643,\n",
       " 1286496,\n",
       " 1288552,\n",
       " 1292221,\n",
       " 1292771,\n",
       " 1294690,\n",
       " 1295038,\n",
       " 1296774,\n",
       " 1297428,\n",
       " 1299799,\n",
       " 1299939,\n",
       " 1300447,\n",
       " 1302433,\n",
       " 1302707,\n",
       " 1303055,\n",
       " 1303058,\n",
       " 1304490,\n",
       " 1305177,\n",
       " 1305552,\n",
       " 1306458,\n",
       " 1306463,\n",
       " 1306570,\n",
       " 1306767,\n",
       " 1306845,\n",
       " 1306896,\n",
       " 1306911,\n",
       " 1306981,\n",
       " 1307368,\n",
       " 1307510,\n",
       " 1307589,\n",
       " 1307660,\n",
       " 1307726]"
      ]
     },
     "execution_count": 32,
     "metadata": {},
     "output_type": "execute_result"
    }
   ],
   "source": [
    "huh"
   ]
  },
  {
   "cell_type": "code",
   "execution_count": 36,
   "id": "ab69c3f5",
   "metadata": {},
   "outputs": [
    {
     "data": {
      "text/plain": [
       "1308084"
      ]
     },
     "execution_count": 36,
     "metadata": {},
     "output_type": "execute_result"
    }
   ],
   "source": [
    "len(idf2)"
   ]
  },
  {
   "cell_type": "code",
   "execution_count": 38,
   "id": "29d2d605",
   "metadata": {
    "scrolled": false
   },
   "outputs": [
    {
     "data": {
      "text/plain": [
       "[(4.46459847422061, 'vintage'),\n",
       " (4.45717829478723, 'making'),\n",
       " (4.455810209215947, 'Great'),\n",
       " (4.455186558503813, 'Bag'),\n",
       " (4.452456366747748, 'want'),\n",
       " (4.451049805649706, 'metal'),\n",
       " (4.448018684901657, 'featuring'),\n",
       " (4.44698140458898, 'provide'),\n",
       " (4.446496042711927, 'offers'),\n",
       " (4.444243314678779, 'Machine'),\n",
       " (4.438561678598335, 'else'),\n",
       " (4.430757404645314, '18'),\n",
       " (4.429824512632034, 'Fit'),\n",
       " (4.424545066363969, 'sleeve'),\n",
       " (4.42419263484008, 'Handmade'),\n",
       " (4.424075613884837, 'Jewelry'),\n",
       " (4.422636476296492, 'smooth'),\n",
       " (4.422370065613706, 'everything'),\n",
       " (4.422110166575469, 'S'),\n",
       " (4.416486990579452, 'Ring'),\n",
       " (4.413850119394386, 'life'),\n",
       " (4.412941761678187, 'stylish'),\n",
       " (4.4117319001436135, 'T-Shirt'),\n",
       " (4.411528117701886, '='),\n",
       " (4.407611324227171, 'provides'),\n",
       " (4.4053876242379815, 'Tee'),\n",
       " (4.405357335204881, 'right'),\n",
       " (4.404513397409391, 'large'),\n",
       " (4.402389676700374, \"It's\"),\n",
       " (4.399280262476959, 'Gift'),\n",
       " (4.398124394438146, 'Printed'),\n",
       " (4.395744159020229, 'wearing'),\n",
       " (4.391008081852458, 'extra'),\n",
       " (4.387832109732765, 'super'),\n",
       " (4.3875320507106395, 'adjustable'),\n",
       " (4.385432917643117, 'premium'),\n",
       " (4.383508562594797, 'Classic'),\n",
       " (4.378424463435703, 'Custom'),\n",
       " (4.377074039258734, 'bag'),\n",
       " (4.370847015327064, 'hundred'),\n",
       " (4.368540621131593, 'seem'),\n",
       " (4.366343340124023, 'twelve'),\n",
       " (4.366046780216748, 'toward'),\n",
       " (4.364651352653677, 'blue'),\n",
       " (4.363338749539711, 'clean'),\n",
       " (4.362997320390592, 't'),\n",
       " (4.357431610274888, '–'),\n",
       " (4.356749760499534, 'neck'),\n",
       " (4.3563158795599914, 'sure'),\n",
       " (4.3548857666183265, 'come'),\n",
       " (4.3493753987740975, 'Natural'),\n",
       " (4.348807542297681, 'modern'),\n",
       " (4.347204730539906, 'Designed'),\n",
       " (4.346857098659515, 'special'),\n",
       " (4.346452474032587, 'Weight'),\n",
       " (4.345284741370099, 'Width'),\n",
       " (4.341430925223649, 'Necklace'),\n",
       " (4.340601375209893, 'weight'),\n",
       " (4.33636563664995, '/'),\n",
       " (4.330655576827477, 'handmade'),\n",
       " (4.330110236051332, 'nor'),\n",
       " (4.324972774562645, 'art'),\n",
       " (4.322201502592526, 'Earrings'),\n",
       " (4.320331198111334, 'Soft'),\n",
       " (4.3078198327756185, 'none'),\n",
       " (4.304260684400452, 'L'),\n",
       " (4.300234234429539, 'finish'),\n",
       " (4.297677891113924, 'custom'),\n",
       " (4.2967343884974385, 'days'),\n",
       " (4.294529183775106, 'good'),\n",
       " (4.293467896605244, 'original'),\n",
       " (4.290215414243445, 'work'),\n",
       " (4.2854006539184475, 'Green'),\n",
       " (4.282847290735254, 'item'),\n",
       " (4.281960059936238, 'material'),\n",
       " (4.281836456195019, 'anyone'),\n",
       " (4.28028929398809, 'fun'),\n",
       " (4.272814595876567, 'cm'),\n",
       " (4.269582216768986, 'And'),\n",
       " (4.2676683290203785, 'onto'),\n",
       " (4.267306294440133, 'Large'),\n",
       " (4.259631984095668, 'dress'),\n",
       " (4.255005341732516, 'Art'),\n",
       " (4.253698830040902, 'They'),\n",
       " (4.251851577235666, 'Design'),\n",
       " (4.251420861808529, 'body'),\n",
       " (4.250442161174387, 'feel'),\n",
       " (4.249927781217812, 'skin'),\n",
       " (4.243538506092256, 'sizes'),\n",
       " (4.239252743164834, 'favorite'),\n",
       " (4.2375567993524434, 'dry'),\n",
       " (4.233978920840118, 'lightweight'),\n",
       " (4.232589519324348, 'serious'),\n",
       " (4.231733632456647, 'otherwise'),\n",
       " (4.2293167840995975, 'includes'),\n",
       " (4.228562491445905, 'To'),\n",
       " (4.22848529582529, 'wash'),\n",
       " (4.227715780434006, 'Dimensions'),\n",
       " (4.226957414876041, 'inches'),\n",
       " (4.222901802511875, 'Print'),\n",
       " (4.222304702842618, 'Light'),\n",
       " (4.2218392544934655, 'Details'),\n",
       " (4.219182051341957, 'comfort'),\n",
       " (4.215261092742681, '7'),\n",
       " (4.21098546373348, 'blend'),\n",
       " (4.206005061464895, 'create'),\n",
       " (4.202255840739817, 'Small'),\n",
       " (4.198250765312859, 'steel'),\n",
       " (4.197785096577483, 'USA'),\n",
       " (4.19180711656795, 'Vintage'),\n",
       " (4.186555978152733, 'Leather'),\n",
       " (4.1831447149057475, 'anything'),\n",
       " (4.182225394578259, 'online'),\n",
       " (4.177821002012139, '50'),\n",
       " (4.160298090107654, 'Long'),\n",
       " (4.15451487500946, 'shipping'),\n",
       " (4.153103701185222, '30'),\n",
       " (4.150491714635628, 'durable'),\n",
       " (4.148762960456722, 'help'),\n",
       " (4.146818875912281, 'different'),\n",
       " (4.146330890550039, 'becomes'),\n",
       " (4.141016947658518, 'length'),\n",
       " (4.1380459621415415, 'cut'),\n",
       " (4.137957094374788, 'Pink'),\n",
       " (4.132556804782761, 'add'),\n",
       " (4.127765716475123, '20'),\n",
       " (4.119434493124527, '•'),\n",
       " (4.115168242353775, 'Sleeve'),\n",
       " (4.1130169564825945, 'Your'),\n",
       " (4.112579908770562, 'Red'),\n",
       " (4.103123872659149, 'order'),\n",
       " (4.102184007192115, 'Brand'),\n",
       " (4.10041297290916, 'range'),\n",
       " (4.095474031338005, 'way'),\n",
       " (4.093206699898643, 'wide'),\n",
       " (4.089176681355095, 'products'),\n",
       " (4.0862390825053705, 'Model'),\n",
       " (4.082359414926187, 'Description'),\n",
       " (4.081031814245806, 'water'),\n",
       " (4.080792777762409, 'polyester'),\n",
       " (4.074208034120913, 'Shipping'),\n",
       " (4.063424973140435, 'doing'),\n",
       " (4.0494756354382515, 'leather'),\n",
       " (4.046003550696034, 'Perfect'),\n",
       " (4.04452711463364, 'need'),\n",
       " (4.04100989443018, 'makes'),\n",
       " (4.038221371946972, 'perhaps'),\n",
       " (4.035149729937612, 'beyond'),\n",
       " (4.032388349972105, '12'),\n",
       " (4.032339679374698, 'I'),\n",
       " (4.02488634058405, 'day'),\n",
       " (4.020130766754424, 'etc'),\n",
       " (4.017563936112585, 'please'),\n",
       " (4.015391589031993, 'wear'),\n",
       " (4.012743611675787, 'Buy'),\n",
       " (4.0056924509300424, 'colors'),\n",
       " (4.00526772690966, 'Hand'),\n",
       " (3.9995809763034584, 'If'),\n",
       " (3.9955468579847757, 'No'),\n",
       " (3.9839278507404114, 'silver'),\n",
       " (3.9810380851484797, 'Store.'),\n",
       " (3.9752399795661453, 'product'),\n",
       " (3.974651594853902, 'using'),\n",
       " (3.972889333983285, 'collection'),\n",
       " (3.9633266450484848, 'Polyester'),\n",
       " (3.958626579359513, 'amount'),\n",
       " (3.9545972394467803, 'comfortable'),\n",
       " (3.9526419957359096, 'Dress'),\n",
       " (3.949281078916472, 'Fabric'),\n",
       " (3.9412879025831016, 'bill'),\n",
       " (3.9391349283503163, 'One'),\n",
       " (3.933427153097224, 'nothing'),\n",
       " (3.92521506388004, 'home'),\n",
       " (3.92043952316025, 'why'),\n",
       " (3.918662950390054, 'free'),\n",
       " (3.9136674704344627, '8'),\n",
       " (3.912340008795497, 'comes'),\n",
       " (3.90953431012033, 'small'),\n",
       " (3.9069249755742863, 'm'),\n",
       " (3.906096628088781, 'light'),\n",
       " (3.903014313378856, 'little'),\n",
       " (3.8779543709764246, 'Style'),\n",
       " (3.8766712185995633, 'seems'),\n",
       " (3.8711998704567563, 'Available'),\n",
       " (3.8557990837876015, 'printed'),\n",
       " (3.8535892362277915, 'Set'),\n",
       " (3.852987595212024, 'High'),\n",
       " (3.8506120762886145, 'call'),\n",
       " (3.8503129346510505, 'Each'),\n",
       " (3.8458291716271384, 'Top'),\n",
       " (3.8337106612211733, 'alone'),\n",
       " (3.832531420583018, 'time'),\n",
       " (3.826191165676779, 'classic'),\n",
       " (3.8232507347809452, 'gift'),\n",
       " (3.8216598440893184, 'Features'),\n",
       " (3.820692966461517, 'something'),\n",
       " (3.8121020247584805, 'someone'),\n",
       " (3.8094325502977964, 'gold'),\n",
       " (3.804995060688877, 'Silver'),\n",
       " (3.8009846409503454, 'Product'),\n",
       " (3.7996805566203227, 'formerly'),\n",
       " (3.782471217481441, 'Type'),\n",
       " (3.7773380465222486, 'except'),\n",
       " (3.7655980769155373, 'love'),\n",
       " (3.762935832232151, 'Blue'),\n",
       " (3.7627068315139467, 'piece'),\n",
       " (3.7614675483492106, 'am'),\n",
       " (3.751923552900946, 'latter'),\n",
       " (3.751911258995544, 'print'),\n",
       " (3.7466027954439376, '#'),\n",
       " (3.739037122359316, 'long'),\n",
       " (3.7323574117135667, '6'),\n",
       " (3.72695400454182, 'New'),\n",
       " (3.7269341528213635, 'black'),\n",
       " (3.720145613168783, 'In'),\n",
       " (3.7185777340884143, 'Length'),\n",
       " (3.7155981114352232, 'Color'),\n",
       " (3.71459696401904, 'natural'),\n",
       " (3.714424522171334, 'nine'),\n",
       " (3.7043208946530464, 'Free'),\n",
       " (3.699164426030399, 'whether'),\n",
       " (3.6990023409621577, 'You'),\n",
       " (3.694230005718265, 'whole'),\n",
       " (3.6920111324440903, '10'),\n",
       " (3.689654737790934, 'used'),\n",
       " (3.6876166004488913, 'Boutique'),\n",
       " (3.6861640297559704, 'set'),\n",
       " (3.6750739410686113, 'fire'),\n",
       " (3.6686388600098887, 'our'),\n",
       " (3.659103434224997, 'your'),\n",
       " (3.656272968511973, 'Please'),\n",
       " (3.656226910934113, 'therefore'),\n",
       " (3.647143734169516, 'hand'),\n",
       " (3.6415359828895038, 'themselves'),\n",
       " (3.6399820653380073, 'color'),\n",
       " (3.635474363406078, 'white'),\n",
       " (3.6182642350565373, 'best'),\n",
       " (3.617712487575807, 'might'),\n",
       " (3.612200016356689, 'unique'),\n",
       " (3.607874675186086, 'easy'),\n",
       " (3.6032407774907997, ']'),\n",
       " (3.602778633725432, 'look'),\n",
       " (3.587075608823649, 'move'),\n",
       " (3.5704647829618814, 'becoming'),\n",
       " (3.566377902297093, 'beautiful'),\n",
       " (3.5572042371029364, 'yet'),\n",
       " (3.554296539551332, 'always'),\n",
       " (3.5528951636052657, 'towards'),\n",
       " (3.5511441124094474, 'Gold'),\n",
       " (3.5495527591579674, 'like'),\n",
       " (3.5341566440584953, 'enough'),\n",
       " (3.525944074765991, 'mostly'),\n",
       " (3.525534571730586, 'done'),\n",
       " (3.5215634243296283, 'front'),\n",
       " (3.5172415043589735, 'fabric'),\n",
       " (3.512663481352079, 'via'),\n",
       " (3.5001727778526552, 'available'),\n",
       " (3.49706541337117, 'White'),\n",
       " (3.4804613637690407, 'whom'),\n",
       " (3.4797944716556874, 'Material'),\n",
       " (3.475325546396605, 'give'),\n",
       " (3.4665609129594865, 'designed'),\n",
       " (3.4632800759416624, '4'),\n",
       " (3.4629878951692104, '5'),\n",
       " (3.459750976187227, 'behind'),\n",
       " (3.454386470529738, '['),\n",
       " (3.4378353014802627, 'new'),\n",
       " (3.4350938390494106, 'Cotton'),\n",
       " (3.4204220101292155, 'use'),\n",
       " (3.42021559339572, 'make'),\n",
       " (3.414962561487833, 'style'),\n",
       " (3.413057955555726, 'For'),\n",
       " (3.4118077415495556, 'me'),\n",
       " (3.407158811375446, 'high'),\n",
       " (3.3968835551200027, 'great'),\n",
       " (3.390722306945106, 'With'),\n",
       " (3.3876314836736037, 'eight'),\n",
       " (3.3760399776042025, 'ever'),\n",
       " (3.3732893225897382, 'ten'),\n",
       " (3.3612918107848375, 'must'),\n",
       " (3.3589032233622262, 'fit'),\n",
       " (3.3525849419279306, 'sometimes'),\n",
       " (3.347587040830737, 'These'),\n",
       " (3.3407254779541677, 'already'),\n",
       " (3.336739009370877, 'All'),\n",
       " (3.3329915692917944, '!'),\n",
       " (3.316911248848517, 'features'),\n",
       " (3.305300846746117, 'too'),\n",
       " (3.3002068530299686, 'whose'),\n",
       " (3.2982172696248777, 'put'),\n",
       " (3.2981612105283826, 'keep'),\n",
       " (3.293575026100096, 'least'),\n",
       " (3.285752972403105, 'itself'),\n",
       " (3.282100445363436, 'find'),\n",
       " (3.2417816766757865, 'my'),\n",
       " (3.230305201278535, '3'),\n",
       " (3.225091933878266, 'thus'),\n",
       " (3.220177501101229, 'above'),\n",
       " (3.211713468639206, 'soft'),\n",
       " (3.207060486171453, 'go'),\n",
       " (3.204899458633634, 'almost'),\n",
       " (3.1877813602381675, 'cotton'),\n",
       " (3.1759909775268382, 'less'),\n",
       " (3.16855513828198, 'quality'),\n",
       " (3.166685035277917, 'interest'),\n",
       " (3.1658947346083037, 'We'),\n",
       " (3.1646718619316077, 'himself'),\n",
       " (3.1644890469821862, 'across'),\n",
       " (3.161030784103807, 'get'),\n",
       " (3.1525318047130244, 'we'),\n",
       " (3.1518976138796075, 'rather'),\n",
       " (3.1482426550225284, 'Black'),\n",
       " (3.146993354048713, 'It'),\n",
       " (3.1407114965949785, 'either'),\n",
       " (3.1283367075384003, '$'),\n",
       " (3.0994815200029295, '1'),\n",
       " (3.094410293323637, 'design'),\n",
       " (3.0820166706161176, 'upon'),\n",
       " (3.077036504964758, 'Our'),\n",
       " (3.0765548405425074, 'Shop'),\n",
       " (3.076056791983709, 'throughout'),\n",
       " (3.069799601046296, 'per'),\n",
       " (3.0559284459762384, 'us'),\n",
       " (3.0389147580868205, '?'),\n",
       " (3.0208418004626254, '2'),\n",
       " (3.005442842158879, 'never'),\n",
       " (2.983897394984038, 'here'),\n",
       " (2.9671998805050857, 'size'),\n",
       " (2.9426687600137686, 'others'),\n",
       " (2.935167071222155, 'Size'),\n",
       " (2.925360929928299, 'Made'),\n",
       " (2.9204944482475415, 'once'),\n",
       " (2.9193702720594366, 'below'),\n",
       " (2.915292663107139, 'side'),\n",
       " (2.913230599132914, 'full'),\n",
       " (2.8914517204398402, '%'),\n",
       " (2.8888389788805076, 'every'),\n",
       " (2.8880777906458928, 'you'),\n",
       " (2.882405767238174, 'six'),\n",
       " (2.8746413785879854, 'should'),\n",
       " (2.8586374887612935, 'show'),\n",
       " (2.85141983937299, 'further'),\n",
       " (2.8476583079400584, 'take'),\n",
       " (2.8471582705891887, 'top'),\n",
       " (2.8449435810779353, 'together'),\n",
       " (2.8431507815659858, 'how'),\n",
       " (2.8391721697980694, 'next'),\n",
       " (2.8103631489783933, 'without'),\n",
       " (2.8090248709046426, 'de'),\n",
       " (2.806574964008443, 'off'),\n",
       " (2.7990228132422743, 'system'),\n",
       " (2.7972208522340014, 'though'),\n",
       " (2.7762006369712613, 'perfect'),\n",
       " (2.7703545014054467, 'down'),\n",
       " (2.7573059231229524, 'become'),\n",
       " (2.757083405858403, 'often'),\n",
       " (2.7266974752581485, 'few'),\n",
       " (2.7240103638649398, 'again'),\n",
       " (2.695920409866598, 'among'),\n",
       " (2.6912737774079547, 'third'),\n",
       " (2.684033786521563, 's'),\n",
       " (2.6597553011371273, 'even'),\n",
       " (2.645755975847953, 'does'),\n",
       " (2.6387184332318427, 'five'),\n",
       " (2.6078055103717057, 'much'),\n",
       " (2.59829302142656, 'x'),\n",
       " (2.5907452045678716, 'what'),\n",
       " (2.5877579152469927, 'those'),\n",
       " (2.57895099834867, 'having'),\n",
       " (2.5666319832063893, '&'),\n",
       " (2.552623502091863, 'could'),\n",
       " (2.5505389325806522, 'won'),\n",
       " (2.5453101254703587, 'A'),\n",
       " (2.5389564213659583, 'own'),\n",
       " (2.538145785783305, 'last'),\n",
       " (2.5372643695524926, 'back'),\n",
       " (2.5349786923266495, 'just'),\n",
       " (2.531497202585475, 'she'),\n",
       " (2.5292364648967447, 'do'),\n",
       " (2.5239428233834853, 'still'),\n",
       " (2.51765384066209, 'due'),\n",
       " (2.5118381652945354, 'although'),\n",
       " (2.5059984183956296, 'see'),\n",
       " (2.5034486632742734, '100'),\n",
       " (2.499664980688325, 'along'),\n",
       " (2.471544748462637, 'very'),\n",
       " (2.4674882456620946, 'did'),\n",
       " (2.452074051665419, 'within'),\n",
       " (2.445035820207448, 'against'),\n",
       " (2.4410873916299325, 'around'),\n",
       " (2.439049936770525, '-'),\n",
       " (2.431198328055867, 'another'),\n",
       " (2.422416045861959, 'her'),\n",
       " (2.4202510081353568, 'if'),\n",
       " (2.4170576104620483, 'former'),\n",
       " (2.406325843174337, 'each'),\n",
       " (2.3693666124917434, 'will'),\n",
       " (2.352912558065321, 'found'),\n",
       " (2.349243909985024, 'him'),\n",
       " (2.340827010090626, 'because'),\n",
       " (2.316909704187048, 'four'),\n",
       " (2.308799307187288, 'any'),\n",
       " (2.2424890464931124, 'same'),\n",
       " (2.2376050642985787, 'so'),\n",
       " (2.201940168930684, 'now'),\n",
       " (2.1959101125127827, 'them'),\n",
       " (2.1940010550730213, 'i'),\n",
       " (2.1316706872604185, 'several'),\n",
       " (2.1312311201872287, 'however'),\n",
       " (2.1177135890821646, 'name'),\n",
       " (2.1012597804594915, 'until'),\n",
       " (2.082182912787779, 'these'),\n",
       " (2.0651785048107816, 'would'),\n",
       " (2.060874968948867, 'became'),\n",
       " (2.055103828018818, 'through'),\n",
       " (2.0533660447602755, 'can'),\n",
       " (2.0409316383764273, 'since'),\n",
       " (2.0260816360857503, 'before'),\n",
       " (2.021856011721258, 'both'),\n",
       " (2.0161311638282577, 'well'),\n",
       " (2.016059050228096, 'than'),\n",
       " (1.996286726091184, 'while'),\n",
       " (1.9904413549422808, 'such'),\n",
       " (1.98488758322241, 'being'),\n",
       " (1.9787826549196916, 'under'),\n",
       " (1.9768923402094571, \"'\"),\n",
       " (1.9699267867221166, 'out'),\n",
       " (1.9650386172116718, 'This'),\n",
       " (1.9466840163429224, 'many'),\n",
       " (1.9344264881598914, 'three'),\n",
       " (1.9160122201514715, 'then'),\n",
       " (1.9122542309688773, 'part'),\n",
       " (1.9035439139308619, 'between'),\n",
       " (1.8649049572083776, 'made'),\n",
       " (1.8608107447008813, 'some'),\n",
       " (1.8545292374160978, 'about'),\n",
       " (1.853012153100071, 'no'),\n",
       " (1.840150914901824, 'up'),\n",
       " (1.8200196941076903, 'over'),\n",
       " (1.8092930870596282, 'most'),\n",
       " (1.8030460612944643, 'where'),\n",
       " (1.7701704681493418, 'may'),\n",
       " (1.7386498841687554, 'only'),\n",
       " (1.733168621019731, 'more'),\n",
       " (1.7135024978289735, 'into'),\n",
       " (1.7119386126029779, 'during'),\n",
       " (1.6854355837554542, 'there'),\n",
       " (1.6667075004435432, 'they'),\n",
       " (1.6469708555037053, 'when'),\n",
       " (1.6111629796580547, ';'),\n",
       " (1.5734737584968423, 'their'),\n",
       " (1.5603610057569985, 'all'),\n",
       " (1.5404452920240808, 'other'),\n",
       " (1.531711530102986, 'The'),\n",
       " (1.5196541932685885, 'have'),\n",
       " (1.5149881209289806, 'had'),\n",
       " (1.5087223255062157, 'been'),\n",
       " (1.4800499519119832, 'two'),\n",
       " (1.4241149403628124, 'after'),\n",
       " (1.4050985825631601, 'were'),\n",
       " (1.4042232156453076, 'but'),\n",
       " (1.3895403988941308, 'who'),\n",
       " (1.3872766796550702, 'its'),\n",
       " (1.3831038748907496, 'not'),\n",
       " (1.3418624938622121, 'or'),\n",
       " (1.3217538156768605, 'his'),\n",
       " (1.310005636953887, 'first'),\n",
       " (1.29646141184613, 'be'),\n",
       " (1.2943526466933026, 'one'),\n",
       " (1.292648116232856, 'he'),\n",
       " (1.2206063818580055, 'are'),\n",
       " (1.1876656004388952, 'has'),\n",
       " (1.121733569636272, ':'),\n",
       " (1.1162286977611127, 'which'),\n",
       " (1.0890122677132175, 'also'),\n",
       " (1.0275837003220085, 'this'),\n",
       " (0.9457636083075615, 'that'),\n",
       " (0.83015868314643, 'an'),\n",
       " (0.7963892207347747, '``'),\n",
       " (0.7914398517945368, \"''\"),\n",
       " (0.7898828858441111, 'at'),\n",
       " (0.7859134362859479, 'from'),\n",
       " (0.7557733963553288, 'with'),\n",
       " (0.7539122897699392, 'it'),\n",
       " (0.6626432171085685, 'as'),\n",
       " (0.652787188876807, 'by'),\n",
       " (0.6518084978331049, 'on'),\n",
       " (0.6207134269099194, 'for'),\n",
       " (0.4768428729329073, 'was'),\n",
       " (0.4248096237552441, 'to'),\n",
       " (0.4213922657472044, '('),\n",
       " (0.42107317673214917, ')'),\n",
       " (0.30955317535039006, 'and'),\n",
       " (0.2673939925894537, 'is'),\n",
       " (0.1878426605286523, 'a'),\n",
       " (0.18471509795023233, 'in'),\n",
       " (0.184389881438325, 'of'),\n",
       " (0.1375063871514238, ','),\n",
       " (0.079914650961734, 'the'),\n",
       " (0.03435607384222793, '.')]"
      ]
     },
     "execution_count": 38,
     "metadata": {},
     "output_type": "execute_result"
    }
   ],
   "source": [
    "sortedidf2[-500:]"
   ]
  },
  {
   "cell_type": "code",
   "execution_count": null,
   "id": "91c28bb3",
   "metadata": {},
   "outputs": [],
   "source": []
  }
 ],
 "metadata": {
  "kernelspec": {
   "display_name": "Python 3",
   "language": "python",
   "name": "python3"
  },
  "language_info": {
   "codemirror_mode": {
    "name": "ipython",
    "version": 3
   },
   "file_extension": ".py",
   "mimetype": "text/x-python",
   "name": "python",
   "nbconvert_exporter": "python",
   "pygments_lexer": "ipython3",
   "version": "3.8.8"
  }
 },
 "nbformat": 4,
 "nbformat_minor": 5
}
