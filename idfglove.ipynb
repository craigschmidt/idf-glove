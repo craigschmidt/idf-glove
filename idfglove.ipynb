{
 "cells": [
  {
   "cell_type": "code",
   "execution_count": 3,
   "id": "fa9ab176",
   "metadata": {},
   "outputs": [],
   "source": [
    "# this is copy of embed.ipynb\n",
    "# the idea is to move through all the pre-embedding data, \n",
    "# and compute the tf and idf values (by url or domain)\n",
    "# using the Glove vocab\n",
    "\n",
    "# standard library\n",
    "import time\n",
    "import json\n",
    "import re\n",
    "import numpy as np\n",
    "import urllib\n",
    "\n",
    "import sentence_transformers\n",
    "from sentence_transformers.models.tokenizer import WhitespaceTokenizer\n",
    "from sentence_transformers.models import WordEmbeddings\n",
    "\n",
    "from scipy.linalg import norm\n",
    "\n",
    "import matplotlib.pyplot as plt"
   ]
  },
  {
   "cell_type": "markdown",
   "id": "cc9ed578",
   "metadata": {},
   "source": [
    "# Read in data"
   ]
  },
  {
   "cell_type": "code",
   "execution_count": 2,
   "id": "c328bf55",
   "metadata": {},
   "outputs": [],
   "source": [
    "dirname = \"/Users/cschmidt/delomore/delomore-parse-output/output/\""
   ]
  },
  {
   "cell_type": "code",
   "execution_count": 5,
   "id": "30c4e6b6",
   "metadata": {},
   "outputs": [],
   "source": [
    "alljson = { \"collections\" : {},\n",
    "            \"products\" : {},\n",
    "            \"homepage\" : [],\n",
    "            \"about\" : [],\n",
    "            \"pages\" : [],\n",
    "            \"blogs\" : [],\n",
    "          }"
   ]
  },
  {
   "cell_type": "code",
   "execution_count": 6,
   "id": "d4c9ae05",
   "metadata": {},
   "outputs": [
    {
     "name": "stdout",
     "output_type": "stream",
     "text": [
      "150\n"
     ]
    }
   ],
   "source": [
    "queryfile = \"/Users/cschmidt/otherrepos/delomore-dataset/query-domains.tsv\"\n",
    "querydomain = open(queryfile, \"rt\").readlines()\n",
    "querydomain = [l.rstrip().split(\"\\t\") for l in querydomain]\n",
    "\n",
    "# get the set of display domains\n",
    "gooddomains = set()\n",
    "\n",
    "for (query, displaydomain, domain) in querydomain:\n",
    "    gooddomains.add(displaydomain)\n",
    "    \n",
    "print(len(gooddomains))"
   ]
  },
  {
   "cell_type": "markdown",
   "id": "3397fb0e",
   "metadata": {},
   "source": [
    "# Get our Glove vocabulary"
   ]
  },
  {
   "cell_type": "code",
   "execution_count": 24,
   "id": "130b62bc",
   "metadata": {},
   "outputs": [],
   "source": [
    "# lets get out vocab from the large Glove model\n",
    "# in the \"vocab\" entry of this json fible\n",
    "# take out PADDING_TOKEN, maybe others?\n",
    "glove = open(\"/Users/cschmidt/otherrepos/average_word_embeddings_glove.840B.300d/0_WordEmbeddings/whitespacetokenizer_config.json\", \"rt\").read()"
   ]
  },
  {
   "cell_type": "code",
   "execution_count": 25,
   "id": "0f29e7ea",
   "metadata": {},
   "outputs": [],
   "source": [
    "glovejson = json.loads(glove)"
   ]
  },
  {
   "cell_type": "code",
   "execution_count": 26,
   "id": "ea5e082a",
   "metadata": {
    "scrolled": false
   },
   "outputs": [
    {
     "data": {
      "text/plain": [
       "dict_keys(['vocab', 'stop_words', 'do_lower_case'])"
      ]
     },
     "execution_count": 26,
     "metadata": {},
     "output_type": "execute_result"
    }
   ],
   "source": [
    "glovejson.keys()"
   ]
  },
  {
   "cell_type": "code",
   "execution_count": 27,
   "id": "325dc743",
   "metadata": {},
   "outputs": [
    {
     "name": "stdout",
     "output_type": "stream",
     "text": [
      "2196017\n"
     ]
    }
   ],
   "source": [
    "vocab = glovejson[\"vocab\"]\n",
    "print(len(vocab))"
   ]
  },
  {
   "cell_type": "code",
   "execution_count": 81,
   "id": "50d0679d",
   "metadata": {},
   "outputs": [],
   "source": [
    "# given the index in vocab, give us the words back\n",
    "idx2word = { idx: w for (idx,w) in enumerate(vocab) }"
   ]
  },
  {
   "cell_type": "code",
   "execution_count": 28,
   "id": "1cda151d",
   "metadata": {},
   "outputs": [],
   "source": [
    "# see if we have other values like PADDING_TOKEN\n",
    "s = \"PADDING_TOKEN\"\n",
    "pattern = re.compile('^[A-Z][A-Z_]+$')\n",
    "\n",
    "weird = []\n",
    "\n",
    "for v in vocab:\n",
    "    match = pattern.search(v)\n",
    "    if match and \"_\" in v:\n",
    "        weird.append(v)"
   ]
  },
  {
   "cell_type": "code",
   "execution_count": 29,
   "id": "0fdeeb9e",
   "metadata": {
    "scrolled": true
   },
   "outputs": [
    {
     "data": {
      "text/plain": [
       "['PADDING_TOKEN',\n",
       " 'COLOR_NAME',\n",
       " 'SIZE_NAME',\n",
       " 'RECOLORED_IMAGE',\n",
       " 'HKEY_LOCAL_MACHINE',\n",
       " 'MASON_GROUP_NAME',\n",
       " 'O_O',\n",
       " 'SEQUENCE_NO',\n",
       " 'T_T',\n",
       " 'COLOR_CODE']"
      ]
     },
     "execution_count": 29,
     "metadata": {},
     "output_type": "execute_result"
    }
   ],
   "source": [
    "# I guess we don't care other than PADDING_TOKEN\n",
    "weird[:10]"
   ]
  },
  {
   "cell_type": "code",
   "execution_count": 30,
   "id": "e06b482f",
   "metadata": {},
   "outputs": [
    {
     "name": "stdout",
     "output_type": "stream",
     "text": [
      "2196016\n"
     ]
    }
   ],
   "source": [
    "vocabSet = set(vocab)\n",
    "vocabSet.remove(s)\n",
    "print(len(vocabSet))"
   ]
  },
  {
   "cell_type": "code",
   "execution_count": 194,
   "id": "bc684251",
   "metadata": {},
   "outputs": [
    {
     "name": "stdout",
     "output_type": "stream",
     "text": [
      "time: 31.532246828079224\n"
     ]
    }
   ],
   "source": [
    "# lets compare to the original file\n",
    "s = \"09286 0.2437 -0.35354 0.17792 -0.77452 -0.022218 -0.19694 0.027929 0.72023 -0.78183 -0.51935 0.093575 0.018988 -0.55911 -0.37718 -0.19112 -0.62838 -0.009131 -0.2324 -0.19366 -0.019515 0.96971 0.43246 -0.056218 0.41794 0.011944 0.17478 -0.039223 0.76286 0.3884 0.61643 -0.28975 -0.47308 0.27847 0.65565 0.071213 -0.10962 -0.24403 0.45842 -0.55064 -0.027161 -0.1487 0.44118 0.43395 -0.3965 0.14803 0.11134 0.28239 0.30327 0.19846 0.22784 -0.3097 -0.15669 -0.57701 0.56791 -0.29641 0.2314 0.21675 -0.63885 -0.49087 0.034753 -0.20009 0.19368 -0.15374 -0.16039 0.22898\"\n",
    "\n",
    "# get everything up to the first space\n",
    "def getinitialword(s):\n",
    "    return s[:s.find(\" \")]\n",
    "\n",
    "glovefile = \"/Users/cschmidt/otherrepos/idf-glove/glove/glove.840B.300d.txt\"\n",
    "\n",
    "start_time = time.time()\n",
    "glovevocab = [getinitialword(l) for l in open(glovefile, 'rt').readlines()]\n",
    "print(\"time:\", time.time() - start_time)"
   ]
  },
  {
   "cell_type": "code",
   "execution_count": 195,
   "id": "955b8fdc",
   "metadata": {},
   "outputs": [],
   "source": [
    "glovevocabSet = set(glovevocab)"
   ]
  },
  {
   "cell_type": "code",
   "execution_count": 196,
   "id": "b3e68309",
   "metadata": {},
   "outputs": [
    {
     "data": {
      "text/plain": [
       "2196017"
      ]
     },
     "execution_count": 196,
     "metadata": {},
     "output_type": "execute_result"
    }
   ],
   "source": [
    "len(glovevocab)"
   ]
  },
  {
   "cell_type": "code",
   "execution_count": 197,
   "id": "59f8a6e0",
   "metadata": {},
   "outputs": [
    {
     "data": {
      "text/plain": [
       "2196016"
      ]
     },
     "execution_count": 197,
     "metadata": {},
     "output_type": "execute_result"
    }
   ],
   "source": [
    "# oh, there's one duplicate here\n",
    "len(glovevocabSet)"
   ]
  },
  {
   "cell_type": "code",
   "execution_count": 37,
   "id": "9ce669e2",
   "metadata": {},
   "outputs": [
    {
     "data": {
      "text/plain": [
       "2196017"
      ]
     },
     "execution_count": 37,
     "metadata": {},
     "output_type": "execute_result"
    }
   ],
   "source": [
    "len(vocab)"
   ]
  },
  {
   "cell_type": "code",
   "execution_count": 68,
   "id": "d7727af6",
   "metadata": {},
   "outputs": [
    {
     "name": "stdout",
     "output_type": "stream",
     "text": [
      "���������������������������������������������������������������������������������������������������������������������������������������������������������������������������������������������������������������������������������������������������������������������������������������������������������������������������������������������� 2\n"
     ]
    }
   ],
   "source": [
    "# huh, these dupe is this stupid thing\n",
    "cnt = {}\n",
    "for v in glovevocab:\n",
    "    cnt[v] = cnt.get(v,0) + 1\n",
    "for v, c in cnt.items():\n",
    "    if c > 1:\n",
    "        print(v,c)"
   ]
  },
  {
   "cell_type": "code",
   "execution_count": 32,
   "id": "468d7f99",
   "metadata": {},
   "outputs": [
    {
     "data": {
      "text/plain": [
       "[',', '.', 'the', 'and', 'to', 'of', 'a', 'in', '\"', ':']"
      ]
     },
     "execution_count": 32,
     "metadata": {},
     "output_type": "execute_result"
    }
   ],
   "source": [
    "glovevocab[:10]"
   ]
  },
  {
   "cell_type": "code",
   "execution_count": 35,
   "id": "952858fd",
   "metadata": {},
   "outputs": [
    {
     "data": {
      "text/plain": [
       "['work.Like',\n",
       " 'working.So',\n",
       " 'wried',\n",
       " 'wwent',\n",
       " 'xalisae',\n",
       " 'xtremecaffeine',\n",
       " 'yildirim',\n",
       " 'z/28',\n",
       " 'zipout',\n",
       " 'zulchzulu']"
      ]
     },
     "execution_count": 35,
     "metadata": {},
     "output_type": "execute_result"
    }
   ],
   "source": [
    "glovevocab[-10:]"
   ]
  },
  {
   "cell_type": "code",
   "execution_count": 33,
   "id": "81e05fcd",
   "metadata": {},
   "outputs": [
    {
     "data": {
      "text/plain": [
       "['PADDING_TOKEN', ',', '.', 'the', 'and', 'to', 'of', 'a', 'in', '\"']"
      ]
     },
     "execution_count": 33,
     "metadata": {},
     "output_type": "execute_result"
    }
   ],
   "source": [
    "vocab[:10]"
   ]
  },
  {
   "cell_type": "code",
   "execution_count": 62,
   "id": "eb557122",
   "metadata": {},
   "outputs": [
    {
     "data": {
      "text/plain": [
       "True"
      ]
     },
     "execution_count": 62,
     "metadata": {},
     "output_type": "execute_result"
    }
   ],
   "source": [
    "# the sets are the same, without the PADDING_TOKEN\n",
    "vocabSet == glovevocabSet"
   ]
  },
  {
   "cell_type": "code",
   "execution_count": 83,
   "id": "4b372e57",
   "metadata": {},
   "outputs": [],
   "source": [
    "# can load it in directly\n",
    "# note that it ignores stopwords\n",
    "tokenizer = WhitespaceTokenizer().load(\"/Users/cschmidt/otherrepos/average_word_embeddings_glove.840B.300d/0_WordEmbeddings/\")"
   ]
  },
  {
   "cell_type": "code",
   "execution_count": 90,
   "id": "d5ee9813",
   "metadata": {},
   "outputs": [],
   "source": [
    "# tokenize with our WhitespaceTokenizer, \n",
    "# but then return the actual words in a list\n",
    "def tokenizeWords(s):\n",
    "    return [idx2word[idx] for idx in tokenizer.tokenize(s)]"
   ]
  },
  {
   "cell_type": "code",
   "execution_count": 91,
   "id": "163bb84b",
   "metadata": {},
   "outputs": [
    {
     "name": "stdout",
     "output_type": "stream",
     "text": [
      "['cow', 'white']\n",
      "['cow', 'white']\n",
      "['Cow', 'white']\n"
     ]
    }
   ],
   "source": [
    "words = tokenizeWords(\"cow white\")\n",
    "print(words)\n",
    "# stop words dissappear\n",
    "words = tokenizeWords(\"the cow is white\")\n",
    "print(words)\n",
    "# retains case, drops punctuation\n",
    "words = tokenizeWords(\"the Cow is white!\")\n",
    "print(words)"
   ]
  },
  {
   "cell_type": "code",
   "execution_count": 136,
   "id": "5e29b888",
   "metadata": {},
   "outputs": [
    {
     "data": {
      "text/plain": [
       "['50', 'beanie', 'package']"
      ]
     },
     "execution_count": 136,
     "metadata": {},
     "output_type": "execute_result"
    }
   ],
   "source": [
    "tokenizeWords(\"50 beanie package\")"
   ]
  },
  {
   "cell_type": "code",
   "execution_count": 137,
   "id": "5a919478",
   "metadata": {},
   "outputs": [
    {
     "data": {
      "text/plain": [
       "['8.5']"
      ]
     },
     "execution_count": 137,
     "metadata": {},
     "output_type": "execute_result"
    }
   ],
   "source": [
    "tokenizeWords(\"8.5\")"
   ]
  },
  {
   "cell_type": "code",
   "execution_count": 95,
   "id": "49e0b2cf",
   "metadata": {},
   "outputs": [
    {
     "name": "stdout",
     "output_type": "stream",
     "text": [
      "5310458\n"
     ]
    }
   ],
   "source": [
    "# get the data from wikipedia_doc_frequencies.txt\n",
    "wikidffile = \"/Users/cschmidt/otherrepos/idf-glove/wikipedia_doc_frequencies.txt\"\n",
    "wikidoc = open(wikidffile, \"rt\").readlines()\n",
    "# overall number of documents on the first line\n",
    "N = int(wikidoc[0].rstrip())\n",
    "print(N)\n",
    "# skip N\n",
    "wikidoc = wikidoc[1:]\n",
    "wikidoc = [l.rstrip().split(\"\\t\") for l in wikidoc]\n",
    "# make a dict\n",
    "wikidf = { w : int(c) for (w,c) in wikidoc}"
   ]
  },
  {
   "cell_type": "code",
   "execution_count": 176,
   "id": "5b5d1df7",
   "metadata": {},
   "outputs": [
    {
     "data": {
      "text/plain": [
       "550935"
      ]
     },
     "execution_count": 176,
     "metadata": {},
     "output_type": "execute_result"
    }
   ],
   "source": [
    "# compute our idf term, \n",
    "# for just those words in the vocabSet\n",
    "# add 1 so still works if no values ??\n",
    "idf = { w : np.log(N/c) for (w,c) in wikidf.items() if w in vocabSet}\n",
    "len(idf)"
   ]
  },
  {
   "cell_type": "code",
   "execution_count": 108,
   "id": "4cde66b4",
   "metadata": {},
   "outputs": [
    {
     "data": {
      "text/plain": [
       "14.792041461292705"
      ]
     },
     "execution_count": 108,
     "metadata": {},
     "output_type": "execute_result"
    }
   ],
   "source": [
    "np.log(N/2)"
   ]
  },
  {
   "cell_type": "code",
   "execution_count": 177,
   "id": "e10f7987",
   "metadata": {},
   "outputs": [
    {
     "data": {
      "text/plain": [
       "430.5509858088449"
      ]
     },
     "execution_count": 177,
     "metadata": {},
     "output_type": "execute_result"
    }
   ],
   "source": [
    "# so a word with a df of 2 is worth 430 times as much as the most common\n",
    "max(idf.values())/min(idf.values())"
   ]
  },
  {
   "cell_type": "code",
   "execution_count": 178,
   "id": "e0c393d3",
   "metadata": {},
   "outputs": [
    {
     "name": "stdout",
     "output_type": "stream",
     "text": [
      "found: 550935\n",
      "missing: 1645081\n"
     ]
    }
   ],
   "source": [
    "# not great coverage here\n",
    "# could do a smoothed version with + 1\n",
    "found = 0\n",
    "missing = 0\n",
    "for v in vocabSet:\n",
    "    if v in wikidf:\n",
    "        found += 1 \n",
    "    else:\n",
    "        missing += 1\n",
    "print(\"found:\", found)\n",
    "print(\"missing:\", missing)"
   ]
  },
  {
   "cell_type": "code",
   "execution_count": 148,
   "id": "d70c4ae5",
   "metadata": {},
   "outputs": [
    {
     "data": {
      "text/plain": [
       "'/Users/cschmidt/delomore/delomore-parse-output/output/'"
      ]
     },
     "execution_count": 148,
     "metadata": {},
     "output_type": "execute_result"
    }
   ],
   "source": [
    "dirname"
   ]
  },
  {
   "cell_type": "code",
   "execution_count": 157,
   "id": "93430041",
   "metadata": {
    "scrolled": false
   },
   "outputs": [
    {
     "name": "stdout",
     "output_type": "stream",
     "text": [
      "0 0 0.0002498626708984375\n",
      "100 460359 21.50938606262207\n",
      "200 918534 42.80574584007263\n",
      "300 1367004 63.594740867614746\n",
      "400 1814600 85.54495286941528\n",
      "500 2267401 107.77748990058899\n",
      "600 2722451 130.41981482505798\n",
      "700 3175132 151.53958082199097\n",
      "800 3634600 173.82817697525024\n",
      "900 4082035 197.6442220211029\n",
      "1000 4536857 219.11221480369568\n",
      "1100 4988963 240.36608791351318\n",
      "1200 5429577 261.2754759788513\n",
      "1300 5876201 282.16024684906006\n",
      "1400 6335477 304.24163579940796\n",
      "1500 6789822 325.71556305885315\n",
      "1600 7238725 347.39124584198\n",
      "1700 7698314 368.48858094215393\n",
      "1800 8150358 389.7115259170532\n",
      "1900 8600183 410.9652979373932\n",
      "2000 9059777 431.9005198478699\n",
      "2100 9518759 453.6181318759918\n",
      "2200 9959376 474.6524107456207\n",
      "2300 10400917 497.4141798019409\n",
      "2400 10854935 518.7216777801514\n",
      "2500 11311368 540.1843667030334\n",
      "2600 11771801 561.5627839565277\n",
      "2700 12215970 582.2565467357635\n",
      "2800 12677880 603.4760377407074\n",
      "2900 13143471 625.671737909317\n",
      "3000 13591367 646.5080478191376\n",
      "3100 14041258 668.250777721405\n",
      "3200 14483887 689.7726557254791\n",
      "3300 14927598 711.5355839729309\n",
      "3400 15381595 734.2530839443207\n",
      "3500 15834435 757.8427257537842\n",
      "3600 16286330 780.2926967144012\n",
      "3700 16737814 801.6611399650574\n",
      "3800 17183822 822.6988370418549\n",
      "3900 17624943 843.4899289608002\n",
      "4000 18069541 864.7196278572083\n",
      "4100 18519843 886.7396068572998\n",
      "4200 18962766 908.2769258022308\n",
      "4300 19412793 930.8414459228516\n",
      "4400 19863485 955.2496609687805\n",
      "4500 20308111 977.5572919845581\n",
      "4600 20755789 999.5026388168335\n",
      "4700 21195039 1019.9335508346558\n",
      "4800 21647556 1044.1473736763\n",
      "4900 22087004 1068.2395498752594\n",
      "5000 22537394 1093.3458497524261\n",
      "5100 22999389 1117.6909658908844\n",
      "5200 23439709 1141.6532099246979\n",
      "5300 23889877 1165.2218129634857\n",
      "5400 24332101 1189.2035257816315\n",
      "5500 24789353 1215.244780778885\n",
      "5600 25239788 1243.2002229690552\n",
      "5700 25710017 1269.5846149921417\n",
      "5800 26168525 1295.555485010147\n",
      "5900 26618518 1321.4958877563477\n",
      "6000 27065299 1346.680971622467\n",
      "6100 27520368 1371.3023388385773\n",
      "6200 27984771 1394.9595239162445\n",
      "6300 28434184 1421.0632817745209\n",
      "6400 28884469 1445.8902769088745\n",
      "6500 29326045 1471.7309629917145\n",
      "6600 29774201 1496.0231018066406\n",
      "6700 30243758 1521.898602962494\n",
      "6800 30714512 1545.9821228981018\n",
      "6900 31182296 1571.4091007709503\n",
      "7000 31635186 1597.3182678222656\n",
      "7100 32097143 1623.499793767929\n",
      "7200 32569206 1649.2061870098114\n",
      "7300 33047345 1674.6981098651886\n",
      "7400 33487593 1700.069594860077\n",
      "7500 33941847 1724.7769401073456\n",
      "7600 34405918 1753.338722705841\n",
      "7700 34862677 1779.2093119621277\n",
      "7800 35304442 1804.0512499809265\n",
      "7900 35750317 1827.1084380149841\n",
      "8000 36210976 1850.2825458049774\n",
      "8100 36668609 1875.5187849998474\n",
      "8200 37119806 1901.458298921585\n",
      "8300 37570036 1926.052209854126\n",
      "8400 38024423 1949.9165208339691\n",
      "8500 38480417 1976.0607397556305\n",
      "8600 38943887 2000.4423789978027\n",
      "8700 39395688 2026.591745853424\n",
      "8800 39856092 2054.4624178409576\n",
      "8900 40315544 2079.4562706947327\n",
      "9000 40760891 2106.4863617420197\n",
      "9100 41219431 2130.973019838333\n",
      "9200 41670311 2155.0296487808228\n",
      "9300 42142274 2181.4027688503265\n",
      "9400 42592698 2205.543330669403\n",
      "9500 43035339 2234.501158952713\n",
      "9600 43500477 2259.5809547901154\n",
      "9700 43959257 2284.8684878349304\n",
      "9800 44419980 2310.7664268016815\n",
      "9900 44878379 2336.1977610588074\n",
      "10000 45336653 2360.240702867508\n",
      "10100 45803517 2386.2247450351715\n",
      "10200 46289359 2411.6176159381866\n",
      "10300 46758550 2438.419289827347\n",
      "10400 47223919 2467.2827529907227\n",
      "10500 47684537 2495.7871837615967\n",
      "10600 48148970 2522.1562538146973\n",
      "10700 48621217 2550.3346576690674\n",
      "10800 49092536 2578.340475797653\n",
      "10900 49549152 2606.9280738830566\n",
      "11000 50005188 2632.785766839981\n",
      "11100 50473760 2657.59099984169\n",
      "11200 50947192 2686.1590299606323\n",
      "11300 51418605 2713.2772607803345\n",
      "11400 51889273 2739.4948449134827\n",
      "11500 52337080 2764.307049036026\n",
      "11600 52790877 2789.317749977112\n",
      "11700 53239775 2814.093466758728\n",
      "11800 53710009 2839.9372758865356\n",
      "11900 54181170 2867.0025968551636\n",
      "12000 54643690 2891.0058209896088\n",
      "12100 55095713 2916.6976137161255\n",
      "12200 55555176 2942.583659887314\n",
      "12300 56012438 2968.0478258132935\n",
      "12400 56480289 2994.0345158576965\n",
      "12500 56958669 3019.8585028648376\n",
      "12600 57425948 3046.0858449935913\n",
      "12700 57888052 3069.99635386467\n",
      "12800 58337410 3093.6758830547333\n",
      "12900 58794491 3120.8299808502197\n",
      "13000 59266931 3147.6806378364563\n",
      "13100 59733085 3174.769069671631\n",
      "13200 60193449 3200.1958668231964\n",
      "13300 60659729 3225.6976268291473\n",
      "13400 61110572 3248.535822868347\n",
      "13500 61574541 3272.2773468494415\n",
      "13600 62040265 3297.5194849967957\n",
      "13700 62496985 3323.173101902008\n",
      "13800 62959228 3347.245012998581\n",
      "13900 63424285 3374.8714559078217\n",
      "14000 63877942 3398.495062828064\n",
      "14100 64337000 3423.2121636867523\n",
      "14200 64782282 3446.4299359321594\n",
      "64886566\n"
     ]
    }
   ],
   "source": [
    "# note that collections just have an 'og:title' and 'product-handles'\n",
    "\n",
    "doccnt = 0\n",
    "# how many documents does the word appear in\n",
    "wordcnt = {}\n",
    "\n",
    "def getTokenizedText(d):\n",
    "    \n",
    "    text = \"\"\n",
    "    \n",
    "    for field in [\"og:title\", \"og:site_name\", \"og:description\"]:\n",
    "        if field in d:\n",
    "\n",
    "            # is occasionally a list, just use first then \n",
    "            if type(d[field]) == list:\n",
    "                text += d[field][0] + \". \"\n",
    "            else:\n",
    "                text += d[field] + \". \"\n",
    "                \n",
    "    words = tokenizeWords(text)\n",
    "    \n",
    "    global wordcnt\n",
    "    # eliminate duplicates with set\n",
    "    # at most get +1 for this page\n",
    "    for w in set(words):\n",
    "        wordcnt[w] = wordcnt.get(w,0) + 1\n",
    "    \n",
    "    global doccnt\n",
    "    doccnt += 1 \n",
    "    \n",
    "    \n",
    "start_time = time.time()\n",
    "\n",
    "# Use each page as a document here\n",
    "# 00000 to 14222\n",
    "for chunk in range(14223):\n",
    "    \n",
    "    if chunk % 100 == 0:\n",
    "        print(chunk, doccnt, time.time() - start_time)\n",
    "    \n",
    "    chunkname = str(chunk).rjust(5, '0') + \".tsv\"\n",
    "\n",
    "    filename = dirname + chunkname\n",
    "    data = [l.rstrip().split(\"\\t\") for l in open(filename, 'rt').readlines()]    \n",
    "\n",
    "    for domain,displaydomain,url,alljson in data:\n",
    "\n",
    "        # convert to json\n",
    "        j = json.loads(alljson)\n",
    "\n",
    "        # are 4 possible kinds of pages to use\n",
    "        if \"about\" in j:\n",
    "            # is a possibly empty list\n",
    "            for d in j[\"about\"]:\n",
    "                getTokenizedText(d)\n",
    "\n",
    "        # note that collections just have an 'og:title' and 'product-handles'\n",
    "        if \"collections\" in j:\n",
    "            # is a dict with handles\n",
    "            for handle, d in j[\"collections\"].items():\n",
    "                getTokenizedText(d)\n",
    "\n",
    "        # has handles\n",
    "        if \"products\" in j:\n",
    "            # is a dict with handles\n",
    "            for handle, d in j[\"products\"].items():\n",
    "                getTokenizedText(d)\n",
    "\n",
    "        # has handles\n",
    "        if \"homepage\" in j:\n",
    "            # is a possibly empty list\n",
    "            for d in j[\"homepage\"]:\n",
    "                getTokenizedText(d)\n",
    "\n",
    "print(doccnt)"
   ]
  },
  {
   "cell_type": "code",
   "execution_count": 182,
   "id": "b6c36bef",
   "metadata": {
    "scrolled": true
   },
   "outputs": [
    {
     "name": "stdout",
     "output_type": "stream",
     "text": [
      "64886566\n",
      "1305349\n"
     ]
    }
   ],
   "source": [
    "print(doccnt)\n",
    "print(len(wordcnt))"
   ]
  },
  {
   "cell_type": "code",
   "execution_count": 186,
   "id": "d9dec8f2",
   "metadata": {},
   "outputs": [
    {
     "name": "stdout",
     "output_type": "stream",
     "text": [
      "1116700\n",
      "1308084\n",
      "\n",
      "idf2: 1116700\n",
      "after idf2: 1308084\n"
     ]
    }
   ],
   "source": [
    "# ok, so how many of thoese words are in vocab\n",
    "# oh, the tokenizer drops all those words not in in vocab\n",
    "\n",
    "# only keep those in at least 2 documents\n",
    "# use our local doccnt\n",
    "idf2 = { w : np.log(doccnt/c) for (w,c) in wordcnt.items() if c >= 2}\n",
    "\n",
    "mywordset = set(wordcnt2)\n",
    "print(len(mywordset))\n",
    "# we can also use the df from idf that are also in vocab\n",
    "either = mywordset | (set(idf.keys()) & vocabSet)\n",
    "print(len(either))\n",
    "print()\n",
    "\n",
    "print(\"idf2:\", len(idf2))\n",
    "# now supplement with any values of idf that aren't already in idf2\n",
    "# however, we want to use the existing value if it is there\n",
    "for (w,v) in idf.items():\n",
    "    if w not in idf2:\n",
    "        idf2[w] = v\n",
    "print(\"after idf2:\", len(idf2))\n",
    "\n",
    "assert len(idf2) == len(either)"
   ]
  },
  {
   "cell_type": "code",
   "execution_count": 188,
   "id": "6a3e8187",
   "metadata": {},
   "outputs": [
    {
     "data": {
      "text/plain": [
       "False"
      ]
     },
     "execution_count": 188,
     "metadata": {},
     "output_type": "execute_result"
    }
   ],
   "source": [
    "# the duplicate row donsn't have a weight, so won't end up in file\n",
    "duplicate = \"����������������������������������������������������������������������������������������������������������������������������������������������������������������������������������������������������������������������������������������������������������������������������������������������������������������������������������������������\"\n",
    "duplicate in idf2"
   ]
  },
  {
   "cell_type": "code",
   "execution_count": 212,
   "id": "ce2c4707",
   "metadata": {},
   "outputs": [],
   "source": [
    "# lets output our idf2 values while we're at it\n",
    "sortedidf2 = sorted([(v,w) for (w,v) in idf2.items()], reverse=True)"
   ]
  },
  {
   "cell_type": "code",
   "execution_count": 214,
   "id": "63faee92",
   "metadata": {},
   "outputs": [],
   "source": [
    "# and save to the disk\n",
    "with open(\"/Users/cschmidt/otherrepos/idf-glove/glove/idf2.tsv\", \"wt\") as out:\n",
    "    for v,w in sortedidf2:\n",
    "        out.write(str(v) + \"\\t\" + w + \"\\n\")"
   ]
  },
  {
   "cell_type": "code",
   "execution_count": 13,
   "id": "cf36b7ba",
   "metadata": {},
   "outputs": [],
   "source": [
    "# load it back in, so we can try clipping values\n",
    "sortedidf2 = []\n",
    "justscores = []\n",
    "with open(\"/Users/cschmidt/otherrepos/idf-glove/glove/idf2.tsv\", \"rt\") as f:\n",
    "    for line in f:\n",
    "        idfval, word = line.rstrip().split(\"\\t\")\n",
    "        sortedidf2.append((float(idfval), word))\n",
    "        justscores.append(float(idfval))"
   ]
  },
  {
   "cell_type": "code",
   "execution_count": 14,
   "id": "b8bfdd70",
   "metadata": {
    "scrolled": false
   },
   "outputs": [
    {
     "name": "stdout",
     "output_type": "stream",
     "text": [
      "13081\n"
     ]
    }
   ],
   "source": [
    "sample = [s for i,s in enumerate(justscores) if i%100 == 0]\n",
    "print(len(sample))"
   ]
  },
  {
   "cell_type": "code",
   "execution_count": 21,
   "id": "99f3774e",
   "metadata": {
    "scrolled": false
   },
   "outputs": [
    {
     "name": "stdout",
     "output_type": "stream",
     "text": [
      "0 (17.29500398431037, '￡')\n",
      "20000 (17.29500398431037, 'kearns')\n",
      "40000 (17.29500398431037, 'Venao')\n",
      "60000 (17.29500398431037, 'Morganthaler')\n",
      "80000 (17.29500398431037, 'Durdy')\n",
      "100000 (17.29500398431037, '4L4')\n",
      "120000 (16.889538876202206, 'rerip')\n",
      "140000 (16.889538876202206, 'Woollam')\n",
      "160000 (16.889538876202206, 'Laelaps')\n",
      "180000 (16.889538876202206, 'Adanson')\n",
      "200000 (16.601856803750422, 'road.It')\n",
      "220000 (16.601856803750422, 'Sixty-second')\n",
      "240000 (16.601856803750422, 'CuteCircuit')\n",
      "260000 (16.378713252436214, 'table.If')\n",
      "280000 (16.378713252436214, 'Rainbowbrite')\n",
      "300000 (16.378713252436214, '76.35')\n",
      "320000 (16.19639169564226, 'bandmember')\n",
      "340000 (16.19639169564226, 'Bokeem')\n",
      "360000 (16.042241015815, 'beta-blockers')\n",
      "380000 (16.042241015815, '68815')\n",
      "400000 (15.908709623190479, 'Pelléas')\n",
      "420000 (15.790926587534095, 'mid-1968')\n",
      "440000 (15.790926587534095, '30297')\n",
      "460000 (15.685566071876268, 'Cober')\n",
      "480000 (15.590255892071944, 'Gizmoz')\n",
      "500000 (15.503244515082315, 'Folkes')\n",
      "520000 (15.423201807408779, 'Avoplex')\n",
      "540000 (15.280100963768104, 're-claim')\n",
      "560000 (15.215562442630533, 'Newair')\n",
      "580000 (15.09777940697415, 'nagar')\n",
      "600000 (15.043712185703875, '16GB/32GB/64GB')\n",
      "620000 (14.897108711511999, 'sudio')\n",
      "640000 (14.81009733452237, 'Salou')\n",
      "660000 (14.792041461292705, '9:111')\n",
      "680000 (14.730054626848833, 'Norways')\n",
      "700000 (14.62085533488384, 'Llagas')\n",
      "720000 (14.491643603403835, 'speedbag')\n",
      "740000 (14.386576353184541, 'web-address')\n",
      "760000 (14.37723325222609, 'Cathrineholm')\n",
      "780000 (14.250481546586947, 'Hookway')\n",
      "800000 (14.116950153962424, 'XR1200')\n",
      "820000 (14.076128159442169, \"d'Auge\")\n",
      "840000 (13.945099897035764, 'Wall-to-Wall')\n",
      "860000 (13.87575072941855, '35:18')\n",
      "880000 (13.754044660273054, 'Caramelle')\n",
      "900000 (13.684086071666146, '5295')\n",
      "920000 (13.539278492797337, 'previously-created')\n",
      "940000 (13.434274273269773, 'silver/silver')\n",
      "960000 (13.343760265728942, '202A')\n",
      "980000 (13.225977230072559, 'Platycerium')\n",
      "1000000 (13.097802036648561, 'Nailah')\n",
      "1020000 (12.997718578091579, 'Peepal')\n",
      "1040000 (12.846131312237391, 'riverboarding')\n",
      "1060000 (12.712599919612869, 'hcca')\n",
      "1080000 (12.554429161316074, 'nail-biting')\n",
      "1100000 (12.394146188494334, 'backrower')\n",
      "1120000 (12.210498841647658, 'Multi-Cat')\n",
      "1140000 (12.009265399969193, 'LeChat')\n",
      "1160000 (11.781575238145386, 'WaterField')\n",
      "1180000 (11.533944923271223, 'aane')\n",
      "1200000 (11.24173903629694, 'Evangelism')\n",
      "1220000 (10.900221163182078, 'upenn')\n",
      "1240000 (10.472806593689878, 'Guts')\n",
      "1260000 (9.924507010837122, 'peay')\n",
      "1280000 (9.13248773417019, 'pleating')\n",
      "1300000 (7.445550320266727, 'height.')\n"
     ]
    }
   ],
   "source": [
    "# see some values \n",
    "for i in range(len(sortedidf2)):\n",
    "    if i % 20000 == 0:\n",
    "        print(i, sortedidf2[i])"
   ]
  },
  {
   "cell_type": "code",
   "execution_count": 15,
   "id": "fca014b8",
   "metadata": {
    "scrolled": false
   },
   "outputs": [
    {
     "data": {
      "text/plain": [
       "17.29500398431037"
      ]
     },
     "execution_count": 15,
     "metadata": {},
     "output_type": "execute_result"
    }
   ],
   "source": [
    "# want to clip the very uncommon ones to the same value, so they don't \n",
    "# dominate the mid range terms\n",
    "max(sample)"
   ]
  },
  {
   "cell_type": "code",
   "execution_count": 41,
   "id": "b5388571",
   "metadata": {},
   "outputs": [
    {
     "name": "stdout",
     "output_type": "stream",
     "text": [
      "13.097802036648561\n"
     ]
    },
    {
     "data": {
      "text/plain": [
       "<matplotlib.collections.LineCollection at 0x7f987f552dc0>"
      ]
     },
     "execution_count": 41,
     "metadata": {},
     "output_type": "execute_result"
    },
    {
     "data": {
      "image/png": "[encoded data removed]",
      "text/plain": [
       "<Figure size 720x720 with 1 Axes>"
      ]
     },
     "metadata": {
      "needs_background": "light"
     },
     "output_type": "display_data"
    }
   ],
   "source": [
    "plt.rcParams['figure.figsize'] = [10, 10]\n",
    "plt.plot(sample)\n",
    "maxval = justscores[1000000]\n",
    "print(maxval)\n",
    "plt.vlines(x=10000,ymin=2, ymax=maxval, color=\"red\")\n",
    "plt.hlines(y=maxval,xmin=0, xmax=10000, color=\"red\")"
   ]
  },
  {
   "cell_type": "code",
   "execution_count": 47,
   "id": "f5db7031",
   "metadata": {},
   "outputs": [],
   "source": [
    "# might as well scale it so the max is 1.0 while we're at it\n",
    "sortedidf3 = [(min(idfval,maxval)/maxval, w) for idfval,w in sortedidf2]\n",
    "idf3 = { w : s for (s,w) in sortedidf3}\n",
    "justscores = [s for (s,w) in sortedidf3]"
   ]
  },
  {
   "cell_type": "code",
   "execution_count": 48,
   "id": "3b5398c3",
   "metadata": {},
   "outputs": [
    {
     "data": {
      "text/plain": [
       "[<matplotlib.lines.Line2D at 0x7f982e946310>]"
      ]
     },
     "execution_count": 48,
     "metadata": {},
     "output_type": "execute_result"
    },
    {
     "data": {
      "image/png": "[encoded data removed]",
      "text/plain": [
       "<Figure size 720x720 with 1 Axes>"
      ]
     },
     "metadata": {
      "needs_background": "light"
     },
     "output_type": "display_data"
    }
   ],
   "source": [
    "# this makes it clear it is about downweighting common words\n",
    "# not making the more obscure stuff super important\n",
    "plt.rcParams['figure.figsize'] = [10, 10]\n",
    "plt.plot(justscores)\n",
    "# maxval = justscores[1000000]\n",
    "# print(maxval)\n",
    "# plt.vlines(x=10000,ymin=2, ymax=maxval, color=\"red\")\n",
    "# plt.hlines(y=maxval,xmin=0, xmax=10000, color=\"red\")"
   ]
  },
  {
   "cell_type": "code",
   "execution_count": 51,
   "id": "082b92fd",
   "metadata": {},
   "outputs": [
    {
     "name": "stdout",
     "output_type": "stream",
     "text": [
      "time: 1308084 471.6110429763794\n"
     ]
    }
   ],
   "source": [
    "# now update our vectors file, \n",
    "# only keeping those rows in idf3,\n",
    "# and multiplying each row by the idf value\n",
    "\n",
    "glovefile =   \"/Users/cschmidt/otherrepos/idf-glove/glove/glove.840B.300d.txt\"\n",
    "weightedout = \"/Users/cschmidt/otherrepos/idf-glove/glove/glove.840B.300d.weighted.txt\"\n",
    "\n",
    "# get everything up to the first space\n",
    "def getinitialword(s):\n",
    "    return s[:s.find(\" \")]\n",
    "\n",
    "out = open(weightedout, \"wt\")\n",
    "\n",
    "written = 0\n",
    "\n",
    "start_time = time.time()\n",
    "for line in open(glovefile, 'rt'):\n",
    "    # this will be a bit faster, since most won't be in idf3\n",
    "    gw = getinitialword(line)\n",
    "    # only keep if have a valid weight\n",
    "    if gw in idf3:\n",
    "        vec = line.rstrip().split(\" \")\n",
    "        assert vec[0] == gw\n",
    "        # drop the word\n",
    "        vec = vec[1:]\n",
    "        vec = np.array([float(x) for x in vec])\n",
    "        # need to normalize\n",
    "        vec /= norm(vec)\n",
    "        # and multiply by idf3\n",
    "        vec *= idf3[gw]\n",
    "        out.write(gw + \" \" + \" \".join([str(a) for a in vec]) + \"\\n\")\n",
    "        written += 1\n",
    "        \n",
    "print(\"time:\", written, time.time() - start_time)\n",
    "out.close()"
   ]
  },
  {
   "cell_type": "code",
   "execution_count": 52,
   "id": "14899410",
   "metadata": {},
   "outputs": [
    {
     "name": "stderr",
     "output_type": "stream",
     "text": [
      "Load Word Embeddings: 1308084Embeddings [03:17, 6622.58Embeddings/s]\n"
     ]
    }
   ],
   "source": [
    "# covert to the right internal format\n",
    "model = WordEmbeddings.from_text_file(weightedout)"
   ]
  },
  {
   "cell_type": "code",
   "execution_count": 53,
   "id": "27e9b795",
   "metadata": {},
   "outputs": [],
   "source": [
    "# and dump it to disk\n",
    "model.save(\"/Users/cschmidt/otherrepos/idf-glove/glove/weightedoutput\")"
   ]
  },
  {
   "cell_type": "code",
   "execution_count": 54,
   "id": "dcdba84d",
   "metadata": {},
   "outputs": [
    {
     "name": "stdout",
     "output_type": "stream",
     "text": [
      "0.6015102961325726\n",
      "0.4681569843589681\n"
     ]
    }
   ],
   "source": [
    "print(idf3[\"weighted\"])\n",
    "print(idf3[\"blanket\"])"
   ]
  },
  {
   "cell_type": "code",
   "execution_count": 57,
   "id": "bf214c58",
   "metadata": {},
   "outputs": [
    {
     "name": "stdout",
     "output_type": "stream",
     "text": [
      "Bearaby 0.0\n",
      "weighted 0.6015102961325726\n",
      "blanket 0.4681569843589681\n",
      "made 0.142383046559281\n",
      "without 0.21456753897446318\n",
      "artificial 0.49430935445294394\n",
      "fillers 0.6047332018048627\n",
      "or 0.10244944076170853\n",
      "synthetic 0.4641162106970325\n",
      "fabrics 0.4135655872428576\n",
      "Naturally 0.5281091853425119\n",
      "heavy 0.39697307167562434\n",
      "cooling 0.5129785034263893\n",
      "and 0.02363397877630451\n",
      "hand-knit 0.7848104235398403\n",
      "with 0.05770230716883812\n",
      "organic 0.3493871347665926\n",
      "materials 0.3780104508580741\n",
      "Buy 0.30636770966974847\n",
      "weighted 0.6015102961325726\n",
      "blanket 0.4681569843589681\n",
      "now 0.16811524275366985\n"
     ]
    }
   ],
   "source": [
    "# just look at an example\n",
    "test = [\"Bearaby\",\n",
    "\"weighted\",\n",
    "\"blanket\",\n",
    "\"made\",\n",
    "\"without\",\n",
    "\"artificial\",\n",
    "\"fillers\",\n",
    "\"or\",\n",
    "\"synthetic\",\n",
    "\"fabrics\",\n",
    "\"Naturally\",\n",
    "\"heavy\",\n",
    "\"cooling\",\n",
    "\"and\",\n",
    "\"hand-knit\",\n",
    "\"with\",\n",
    "\"organic\",\n",
    "\"materials\",\n",
    "\"Buy\",\n",
    "\"weighted\",\n",
    "\"blanket\",\n",
    "\"now\"]\n",
    "        \n",
    "for w in test:\n",
    "    print(w, idf3.get(w,0.0))"
   ]
  },
  {
   "cell_type": "code",
   "execution_count": null,
   "id": "a478c7aa",
   "metadata": {},
   "outputs": [],
   "source": []
  }
 ],
 "metadata": {
  "kernelspec": {
   "display_name": "Python 3",
   "language": "python",
   "name": "python3"
  },
  "language_info": {
   "codemirror_mode": {
    "name": "ipython",
    "version": 3
   },
   "file_extension": ".py",
   "mimetype": "text/x-python",
   "name": "python",
   "nbconvert_exporter": "python",
   "pygments_lexer": "ipython3",
   "version": "3.8.8"
  }
 },
 "nbformat": 4,
 "nbformat_minor": 5
}
